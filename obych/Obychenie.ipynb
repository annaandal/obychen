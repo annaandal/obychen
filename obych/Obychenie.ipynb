{
 "cells": [
  {
   "cell_type": "markdown",
   "metadata": {
    "toc": true
   },
   "source": [
    "<h1>Содержание<span class=\"tocSkip\"></span></h1>\n",
    "<div class=\"toc\"><ul class=\"toc-item\"><li><span><a href=\"#Подготовка-данных\" data-toc-modified-id=\"Подготовка-данных-1\"><span class=\"toc-item-num\">1&nbsp;&nbsp;</span>Подготовка данных</a></span></li><li><span><a href=\"#Исследование-задачи\" data-toc-modified-id=\"Исследование-задачи-2\"><span class=\"toc-item-num\">2&nbsp;&nbsp;</span>Исследование задачи</a></span></li><li><span><a href=\"#Борьба-с-дисбалансом\" data-toc-modified-id=\"Борьба-с-дисбалансом-3\"><span class=\"toc-item-num\">3&nbsp;&nbsp;</span>Борьба с дисбалансом</a></span></li><li><span><a href=\"#Тестирование-модели\" data-toc-modified-id=\"Тестирование-модели-4\"><span class=\"toc-item-num\">4&nbsp;&nbsp;</span>Тестирование модели</a></span></li><li><span><a href=\"#Чек-лист-готовности-проекта\" data-toc-modified-id=\"Чек-лист-готовности-проекта-5\"><span class=\"toc-item-num\">5&nbsp;&nbsp;</span>Чек-лист готовности проекта</a></span></li></ul></div>"
   ]
  },
  {
   "cell_type": "markdown",
   "metadata": {},
   "source": [
    "# Отток клиентов"
   ]
  },
  {
   "cell_type": "markdown",
   "metadata": {},
   "source": [
    "Задача: спрогнозировать, уйдёт клиент из  «Бета-Банка» в ближайшее время или нет (Банковские маркетологи посчитали: сохранять текущих клиентов дешевле, чем привлекать новых). Предоставлены исторические данные о поведении клиентов и расторжении договоров с банком.  \n",
    "\n",
    "Описание проекта\n",
    "Из «Бета-Банка» стали уходить клиенты. Каждый месяц. Немного, но заметно. Банковские маркетологи посчитали: сохранять текущих клиентов дешевле, чем привлекать новых.\n",
    "Нужно спрогнозировать, уйдёт клиент из банка в ближайшее время или нет. Вам предоставлены исторические данные о поведении клиентов и расторжении договоров с банком.\n",
    "\n",
    "\n",
    "**Описание данных**\n",
    "\n",
    "*Признаки*\n",
    "- `RowNumber` — уникальный идентификатор клиента;\n",
    "- `CustomerId` — фамилия;\n",
    "- `CreditScore` — кредитный рейтинг;\n",
    "- `Geography` — страна проживания;\n",
    "- `Gender` — пол;\n",
    "- `Age` — возраст;\n",
    "- `Tenure` — сколько лет человек является клиентом банка;\n",
    "- `Balance` — баланс на счёте;\n",
    "- `NumOfProducts` — количество продуктов банка, используемых клиентом;\n",
    "- `HasCrCard` — наличие кредитной карты;\n",
    "- `IsActiveMember` — активность клиента;\n",
    "- `EstimatedSalary` — предполагаемая зарплата;\n",
    "\n",
    "*Целевой признак*\n",
    "- `Exited` — факт ухода клиента.\n"
   ]
  },
  {
   "cell_type": "markdown",
   "metadata": {},
   "source": [
    "## Подготовка данных"
   ]
  },
  {
   "cell_type": "code",
   "execution_count": 1,
   "metadata": {},
   "outputs": [],
   "source": [
    "import pandas as pd\n",
    "import numpy as np\n",
    "import random\n",
    "\n",
    "from sklearn.tree import DecisionTreeClassifier\n",
    "from sklearn.ensemble import RandomForestClassifier \n",
    "from sklearn.linear_model import LogisticRegression \n",
    "from sklearn.metrics import accuracy_score\n",
    "from sklearn.metrics import f1_score\n",
    "from sklearn.model_selection import train_test_split\n",
    "from sklearn.preprocessing import StandardScaler\n",
    "from sklearn.utils import shuffle\n",
    "from sklearn.metrics import roc_auc_score"
   ]
  },
  {
   "cell_type": "code",
   "execution_count": 2,
   "metadata": {},
   "outputs": [],
   "source": [
    "try:\n",
    "    data = pd.read_csv('C:/Users/79258/obych_s_y/Churn.csv')\n",
    "except:\n",
    "    data = pd.read_csv('/datasets/Churn.csv')"
   ]
  },
  {
   "cell_type": "markdown",
   "metadata": {},
   "source": [
    "Посмотрим размер таблицы и первые 5 строк:"
   ]
  },
  {
   "cell_type": "code",
   "execution_count": 3,
   "metadata": {
    "scrolled": false
   },
   "outputs": [
    {
     "name": "stdout",
     "output_type": "stream",
     "text": [
      "(10000, 14)\n",
      "   RowNumber  CustomerId   Surname  CreditScore Geography  Gender  Age  \\\n",
      "0          1    15634602  Hargrave          619    France  Female   42   \n",
      "1          2    15647311      Hill          608     Spain  Female   41   \n",
      "2          3    15619304      Onio          502    France  Female   42   \n",
      "3          4    15701354      Boni          699    France  Female   39   \n",
      "4          5    15737888  Mitchell          850     Spain  Female   43   \n",
      "\n",
      "   Tenure    Balance  NumOfProducts  HasCrCard  IsActiveMember  \\\n",
      "0     2.0       0.00              1          1               1   \n",
      "1     1.0   83807.86              1          0               1   \n",
      "2     8.0  159660.80              3          1               0   \n",
      "3     1.0       0.00              2          0               0   \n",
      "4     2.0  125510.82              1          1               1   \n",
      "\n",
      "   EstimatedSalary  Exited  \n",
      "0        101348.88       1  \n",
      "1        112542.58       0  \n",
      "2        113931.57       1  \n",
      "3         93826.63       0  \n",
      "4         79084.10       0  \n"
     ]
    }
   ],
   "source": [
    "print(data.shape)\n",
    "print(data.head())"
   ]
  },
  {
   "cell_type": "markdown",
   "metadata": {},
   "source": [
    "Поменяем регистр в названиях колонок"
   ]
  },
  {
   "cell_type": "code",
   "execution_count": 4,
   "metadata": {},
   "outputs": [],
   "source": [
    "data.columns = [x.lower().replace(' ', '_') for x in data.columns.values]"
   ]
  },
  {
   "cell_type": "markdown",
   "metadata": {},
   "source": [
    "Данных достаточно много 10 000. Проверим на наличие пустых значений и изучим типы данных."
   ]
  },
  {
   "cell_type": "code",
   "execution_count": 5,
   "metadata": {},
   "outputs": [
    {
     "name": "stdout",
     "output_type": "stream",
     "text": [
      "<class 'pandas.core.frame.DataFrame'>\n",
      "RangeIndex: 10000 entries, 0 to 9999\n",
      "Data columns (total 14 columns):\n",
      " #   Column           Non-Null Count  Dtype  \n",
      "---  ------           --------------  -----  \n",
      " 0   rownumber        10000 non-null  int64  \n",
      " 1   customerid       10000 non-null  int64  \n",
      " 2   surname          10000 non-null  object \n",
      " 3   creditscore      10000 non-null  int64  \n",
      " 4   geography        10000 non-null  object \n",
      " 5   gender           10000 non-null  object \n",
      " 6   age              10000 non-null  int64  \n",
      " 7   tenure           9091 non-null   float64\n",
      " 8   balance          10000 non-null  float64\n",
      " 9   numofproducts    10000 non-null  int64  \n",
      " 10  hascrcard        10000 non-null  int64  \n",
      " 11  isactivemember   10000 non-null  int64  \n",
      " 12  estimatedsalary  10000 non-null  float64\n",
      " 13  exited           10000 non-null  int64  \n",
      "dtypes: float64(3), int64(8), object(3)\n",
      "memory usage: 1.1+ MB\n"
     ]
    }
   ],
   "source": [
    "data.info()"
   ]
  },
  {
   "cell_type": "markdown",
   "metadata": {},
   "source": [
    "В слобце с указанием количества лет, в течение которых человек является клиентом банка указано Nan. Заменим пропуски на случайные цифры, для того, чтобы было минимальное влияние на распределение."
   ]
  },
  {
   "cell_type": "code",
   "execution_count": 6,
   "metadata": {},
   "outputs": [],
   "source": [
    "data['tenure'] =  data['tenure'].apply(lambda x: random.randint(0,10) if str(x)=='nan' else x)"
   ]
  },
  {
   "cell_type": "code",
   "execution_count": 7,
   "metadata": {},
   "outputs": [
    {
     "data": {
      "text/plain": [
       "1.0     1041\n",
       "2.0     1038\n",
       "8.0     1027\n",
       "3.0     1016\n",
       "7.0      996\n",
       "5.0      993\n",
       "4.0      967\n",
       "6.0      964\n",
       "9.0      951\n",
       "10.0     533\n",
       "0.0      474\n",
       "Name: tenure, dtype: int64"
      ]
     },
     "execution_count": 7,
     "metadata": {},
     "output_type": "execute_result"
    }
   ],
   "source": [
    "data['tenure'].value_counts()"
   ]
  },
  {
   "cell_type": "code",
   "execution_count": 8,
   "metadata": {
    "scrolled": true
   },
   "outputs": [
    {
     "name": "stdout",
     "output_type": "stream",
     "text": [
      "<class 'pandas.core.frame.DataFrame'>\n",
      "RangeIndex: 10000 entries, 0 to 9999\n",
      "Data columns (total 14 columns):\n",
      " #   Column           Non-Null Count  Dtype  \n",
      "---  ------           --------------  -----  \n",
      " 0   rownumber        10000 non-null  int64  \n",
      " 1   customerid       10000 non-null  int64  \n",
      " 2   surname          10000 non-null  object \n",
      " 3   creditscore      10000 non-null  int64  \n",
      " 4   geography        10000 non-null  object \n",
      " 5   gender           10000 non-null  object \n",
      " 6   age              10000 non-null  int64  \n",
      " 7   tenure           10000 non-null  float64\n",
      " 8   balance          10000 non-null  float64\n",
      " 9   numofproducts    10000 non-null  int64  \n",
      " 10  hascrcard        10000 non-null  int64  \n",
      " 11  isactivemember   10000 non-null  int64  \n",
      " 12  estimatedsalary  10000 non-null  float64\n",
      " 13  exited           10000 non-null  int64  \n",
      "dtypes: float64(3), int64(8), object(3)\n",
      "memory usage: 1.1+ MB\n"
     ]
    }
   ],
   "source": [
    "data.info()"
   ]
  },
  {
   "cell_type": "markdown",
   "metadata": {},
   "source": [
    "избавимся от неинформативных столбцов 'surname',' rownumber', 'customerid' - они не влияют на результат исследования. Столбец gender категориальный - далее преобразуем его в численные значения."
   ]
  },
  {
   "cell_type": "code",
   "execution_count": 9,
   "metadata": {},
   "outputs": [],
   "source": [
    "data = data.drop(['surname','rownumber', 'customerid'], axis=1)"
   ]
  },
  {
   "cell_type": "markdown",
   "metadata": {},
   "source": [
    "## Исследование задачи"
   ]
  },
  {
   "cell_type": "markdown",
   "metadata": {},
   "source": [
    "Преобразуем категориальные признаки gender в численные. Чтобы не попасть в дамми ловушку применим drop_first=True"
   ]
  },
  {
   "cell_type": "code",
   "execution_count": 10,
   "metadata": {},
   "outputs": [],
   "source": [
    "data_ohe = pd.get_dummies(data, drop_first=True)"
   ]
  },
  {
   "cell_type": "code",
   "execution_count": 11,
   "metadata": {},
   "outputs": [
    {
     "name": "stdout",
     "output_type": "stream",
     "text": [
      "creditscore            int64\n",
      "age                    int64\n",
      "tenure               float64\n",
      "balance              float64\n",
      "numofproducts          int64\n",
      "hascrcard              int64\n",
      "isactivemember         int64\n",
      "estimatedsalary      float64\n",
      "exited                 int64\n",
      "geography_Germany      uint8\n",
      "geography_Spain        uint8\n",
      "gender_Male            uint8\n",
      "dtype: object\n"
     ]
    }
   ],
   "source": [
    "print(data_ohe.dtypes)"
   ]
  },
  {
   "cell_type": "markdown",
   "metadata": {},
   "source": [
    "разделим начала весь набор данных на тестовую выборку, на которой будем проверять качество выбранной наилучшей модели, и на остальные данные"
   ]
  },
  {
   "cell_type": "code",
   "execution_count": 12,
   "metadata": {},
   "outputs": [],
   "source": [
    "data_train_valid, data_test = train_test_split(data_ohe, test_size=0.2, random_state=12345) "
   ]
  },
  {
   "cell_type": "markdown",
   "metadata": {},
   "source": [
    "теперь из оставшихся данных выберем валидационную выборку, на которой будем выбирать модель."
   ]
  },
  {
   "cell_type": "code",
   "execution_count": 13,
   "metadata": {},
   "outputs": [
    {
     "name": "stdout",
     "output_type": "stream",
     "text": [
      "(6000, 11)\n",
      "(2000, 11)\n",
      "(2000, 11)\n"
     ]
    }
   ],
   "source": [
    "data_train, data_valid = train_test_split(data_train_valid, test_size=0.25, random_state=12345) \n",
    "features_train = data_train.drop(['exited'], axis=1)\n",
    "target_train = data_train['exited']\n",
    "features_valid = data_valid.drop(['exited'], axis=1)\n",
    "target_valid = data_valid['exited']\n",
    "features_test = data_test.drop(['exited'], axis=1)\n",
    "target_test = data_test['exited']\n",
    "print(features_train.shape)\n",
    "print(features_valid.shape)\n",
    "print(features_test.shape)"
   ]
  },
  {
   "cell_type": "markdown",
   "metadata": {},
   "source": [
    "Данные разделили на 3 выборки: обучающую, валидационную и тестовую. Перейдем к иследованию балансов классов, обучим модель без учёта дисбаланса."
   ]
  },
  {
   "cell_type": "code",
   "execution_count": 14,
   "metadata": {},
   "outputs": [],
   "source": [
    "numeric = ['estimatedsalary', 'balance', 'age', 'creditscore', 'numofproducts']"
   ]
  },
  {
   "cell_type": "code",
   "execution_count": 15,
   "metadata": {},
   "outputs": [
    {
     "name": "stdout",
     "output_type": "stream",
     "text": [
      "      creditscore       age  tenure   balance  numofproducts  hascrcard  \\\n",
      "492     -0.134048 -0.078068     4.0  0.076163       0.816929          0   \n",
      "6655    -1.010798  0.494555     1.0  0.136391      -0.896909          1   \n",
      "4287     0.639554  1.353490     1.0  0.358435      -0.896909          1   \n",
      "42      -0.990168  2.116987     2.0  0.651725      -0.896909          1   \n",
      "8178     0.567351  0.685430     7.0  0.813110       0.816929          1   \n",
      "\n",
      "      isactivemember  estimatedsalary  geography_Germany  geography_Spain  \\\n",
      "492                1         0.331571                  0                0   \n",
      "6655               1        -0.727858                  0                0   \n",
      "4287               1        -0.477006                  1                0   \n",
      "42                 1        -0.100232                  0                0   \n",
      "8178               1         0.801922                  0                0   \n",
      "\n",
      "      gender_Male  \n",
      "492             0  \n",
      "6655            1  \n",
      "4287            1  \n",
      "42              0  \n",
      "8178            0  \n"
     ]
    }
   ],
   "source": [
    "scaler = StandardScaler()\n",
    "scaler.fit(features_train[numeric])\n",
    "features_train[numeric] = scaler.transform(features_train[numeric])\n",
    "features_valid[numeric] = scaler.transform(features_valid[numeric])\n",
    "features_test[numeric] = scaler.transform(features_test[numeric])\n",
    "\n",
    "print(features_train.head())"
   ]
  },
  {
   "cell_type": "markdown",
   "metadata": {},
   "source": [
    "Обучим модель решающего дерева, посчитаем accuracy."
   ]
  },
  {
   "cell_type": "code",
   "execution_count": 16,
   "metadata": {},
   "outputs": [
    {
     "name": "stdout",
     "output_type": "stream",
     "text": [
      "0.4937655860349127\n"
     ]
    }
   ],
   "source": [
    "model = DecisionTreeClassifier(random_state=12345)\n",
    "model.fit(features_train,target_train)\n",
    "predictions_valid  = model.predict(features_valid)\n",
    "accuracy_valid_tree = f1_score(target_valid,predictions_valid)\n",
    "print(accuracy_valid_tree)"
   ]
  },
  {
   "cell_type": "markdown",
   "metadata": {},
   "source": [
    "Метрика f1 достаточно низкая, всего 0.47. Чтобы оценить адекватность модели, проверим, как часто в целевом признаке встречается класс «1» или «0». Для начала построим на графике для наглядности"
   ]
  },
  {
   "cell_type": "code",
   "execution_count": 17,
   "metadata": {
    "scrolled": false
   },
   "outputs": [
    {
     "name": "stdout",
     "output_type": "stream",
     "text": [
      "0    0.7963\n",
      "1    0.2037\n",
      "Name: exited, dtype: float64\n"
     ]
    },
    {
     "data": {
      "text/plain": [
       "<AxesSubplot:>"
      ]
     },
     "execution_count": 17,
     "metadata": {},
     "output_type": "execute_result"
    },
    {
     "data": {
      "image/png": "[encoded data removed]",
      "text/plain": [
       "<Figure size 432x288 with 1 Axes>"
      ]
     },
     "metadata": {
      "needs_background": "light"
     },
     "output_type": "display_data"
    }
   ],
   "source": [
    "class_frequency = data['exited'].value_counts(normalize=True)\n",
    "print(class_frequency)\n",
    "class_frequency.plot(kind='bar')"
   ]
  },
  {
   "cell_type": "markdown",
   "metadata": {},
   "source": [
    "посчитали f1 и AUC_ROC для модели логистической регрессии, метрики имеют низкие значения. Нужно избавиться от дисбаланса."
   ]
  },
  {
   "cell_type": "markdown",
   "metadata": {},
   "source": [
    "## Борьба с дисбалансом"
   ]
  },
  {
   "cell_type": "markdown",
   "metadata": {},
   "source": [
    "тк у нас есть дисбаланс воспользуемся методами, которые позволяют от него избавиться. Метод upsample:"
   ]
  },
  {
   "cell_type": "code",
   "execution_count": 19,
   "metadata": {},
   "outputs": [],
   "source": [
    "def upsample(features_valid, target_valid, repeat):\n",
    "    features_zeros = features_valid[target_valid == 0]\n",
    "    features_ones = features_valid[target_valid == 1]\n",
    "    target_zeros = target_valid[target_valid == 0]\n",
    "    target_ones = target_valid[target_valid == 1]\n",
    "\n",
    "    features_upsampled = pd.concat([features_zeros] + [features_ones] * repeat)\n",
    "    target_upsampled = pd.concat([target_zeros] + [target_ones] * repeat)\n",
    "    \n",
    "    features_upsampled, target_upsampled = shuffle(\n",
    "        features_upsampled, target_upsampled, random_state=12345)\n",
    "    \n",
    "    return features_upsampled, target_upsampled\n"
   ]
  },
  
  {
   "cell_type": "markdown",
   "metadata": {},
   "source": [
    "Подобрали значние repeat так, чтобы устранился дисбаланс. Проверяем:"   ]
  },
  {
   "cell_type": "code",
   "execution_count": 21,
   "metadata": {
    "scrolled": true
   },
   "outputs": [
    {
     "data": {
      "text/plain": [
       "1    4876\n",
       "0    4781\n",
       "Name: exited, dtype: int64"
      ]
     },
     "execution_count": 21,
     "metadata": {},
     "output_type": "execute_result"
    }
   ],
   "source": [
    "target_upsampled.value_counts()"
   ]
  },
  {
   "cell_type": "markdown",
   "metadata": {},
   "source": [
    "При избавлении от дисбаланса метрики f1 и auc-roc выросли, но не достаточно. Посмотрим на модели решающего дерева. F1 в этом случае чуть ниже, при этом значения все равно низкие. "
   ]
  },
  {
   "cell_type": "code",
   "execution_count": 22,
   "metadata": {},
   "outputs": [
    {
     "name": "stdout",
     "output_type": "stream",
     "text": [
      "F1: 0.47483870967741937\n",
      "AUC-ROC: 0.673143713669433\n"
     ]
    }
   ],
   "source": [
    "model = DecisionTreeClassifier(random_state=12345)\n",
    "model.fit(features_upsampled, target_upsampled) \n",
    "predicted_valid = model.predict(features_valid)\n",
    "\n",
    "print(\"F1:\", f1_score(target_valid, predicted_valid))\n",
    "\n",
    "probabilities_tree = model.predict_proba(features_valid)\n",
    "probabilities_one_tree = probabilities_tree[:, 1]\n",
    "\n",
    "auc_roc_tree_bal = roc_auc_score(target_valid,probabilities_one_tree)\n",
    "\n",
    "print(\"AUC-ROC:\", auc_roc_tree_bal)"
   ]
  },
  {
   "cell_type": "markdown",
   "metadata": {},
   "source": [
    "Рассмотрим модель случайного леса. Найдем кол-во деревьев, при котором метрика f1 наибольшая. "
   ]
  },
  {
   "cell_type": "code",
   "execution_count": 23,
   "metadata": {},
   "outputs": [
    {
     "name": "stdout",
     "output_type": "stream",
     "text": [
      "f1 наилучшей модели на валидационной выборке: 0.6030013642564802 Количество деревьев: 55\n"
     ]
    }
   ],
   "source": [
    "best_model = None\n",
    "best_result = 0\n",
    "best_est = 0\n",
    "for est in range(10, 100):\n",
    "    model = RandomForestClassifier(random_state=12345, n_estimators=est)\n",
    "    model.fit(features_upsampled,target_upsampled) \n",
    "    predicted_valid = model.predict(features_valid)\n",
    "    result = f1_score(target_valid,predicted_valid)\n",
    "    if result > best_result:\n",
    "        best_model = model\n",
    "        best_result = result\n",
    "        best_est = est\n",
    "            \n",
    "    \n",
    "\n",
    "print(\"f1 наилучшей модели на валидационной выборке:\", best_result, \n",
    "      \"Количество деревьев:\", best_est)"
   ]
  },
  {
   "cell_type": "markdown",
   "metadata": {},
   "source": [
    "посчитаем f1 и AUC-ROC"
   ]
  },
  {
   "cell_type": "code",
   "execution_count": 24,
   "metadata": {
    "scrolled": true
   },
   "outputs": [
    {
     "name": "stdout",
     "output_type": "stream",
     "text": [
      "F1: 0.584958217270195\n",
      "AUC-ROC: 0.841170748300401\n"
     ]
    }
   ],
   "source": [
    "                                              \n",
    "model = RandomForestClassifier(random_state=12345, n_estimators=65)\n",
    "model.fit(features_upsampled, target_upsampled) \n",
    "predicted_valid = model.predict(features_valid)\n",
    "\n",
    "print(\"F1:\", f1_score(target_valid, predicted_valid))\n",
    "\n",
    "probabilities_rand = model.predict_proba(features_valid)\n",
    "probabilities_one_rand = probabilities_rand[:, 1]\n",
    "\n",
    "auc_roc_random_bal = roc_auc_score(target_valid,probabilities_one_rand)\n",
    "\n",
    "print(\"AUC-ROC:\", auc_roc_random_bal)"
   ]
  },
  {
   "cell_type": "markdown",
   "metadata": {},
   "source": [
    "при использовании метода upsample, c подобранными параметрами модель случайного леса дала нужный уровень метрики f1 и auc-roc в данном случае имеет высокое значение. Также проверим модель случайного леса c методом class_weight='balanced'."
   ]
  },
  {
   "cell_type": "code",
   "execution_count": 25,
   "metadata": {
    "scrolled": false
   },
   "outputs": [
    {
     "name": "stdout",
     "output_type": "stream",
     "text": [
      "F1: 0.5585874799357946\n",
      "AUC-ROC: 0.8440517612725096\n"
     ]
    }
   ],
   "source": [
    "model = RandomForestClassifier(random_state=12345, n_estimators=65, class_weight = 'balanced')\n",
    "model.fit(features_train, target_train) \n",
    "predicted_valid = model.predict(features_valid)\n",
    "\n",
    "print(\"F1:\", f1_score(target_valid, predicted_valid))\n",
    "\n",
    "probabilities_rand = model.predict_proba(features_valid)\n",
    "probabilities_one_rand = probabilities_rand[:, 1]\n",
    "\n",
    "auc_roc_random_bal = roc_auc_score(target_valid,probabilities_one_rand)\n",
    "\n",
    "print(\"AUC-ROC:\", auc_roc_random_bal)"
   ]
  },
  {
   "cell_type": "markdown",
   "metadata": {},
   "source": [
    "Значения f1 уменьшилась. \n",
    "Итого наилучшее значение f1 получилось при использовании модели cлучайного дерева с 65 деревом, избавляясь от дисбаланса методом upsampling"
   ]
  },
  {
   "cell_type": "markdown",
   "metadata": {},
   "source": [
    "## Тестирование модели"
   ]
  },
  {
   "cell_type": "markdown",
   "metadata": {},
   "source": [
    "Протестируем выбранную модель на тестовой выборке:"
   ]
  },
  {
   "cell_type": "code",
   "execution_count": 26,
   "metadata": {},
   "outputs": [
    {
     "name": "stdout",
     "output_type": "stream",
     "text": [
      "F1: 0.6038709677419355\n"
     ]
    }
   ],
   "source": [
    "model = RandomForestClassifier(random_state=12345, n_estimators=65)\n",
    "model.fit(features_upsampled, target_upsampled) \n",
    "predicted_test=model.predict(features_test)\n",
    "print(\"F1:\", f1_score(target_test, predicted_test))"
   ]
  },
  {
   "cell_type": "markdown",
   "metadata": {},
   "source": [
    "Таким образом, выбранная модель Случайного леса показала высокую точность на тестовой выборке. "
   ]
  },
  {
   "cell_type": "code",
   "execution_count": 27,
   "metadata": {},
   "outputs": [
    {
     "name": "stdout",
     "output_type": "stream",
     "text": [
      "0.8489439025951693\n"
     ]
    }
   ],
   "source": [
    "probabilities_test = model.predict_proba(features_test)\n",
    "probabilities_one_test = probabilities_test[:, 1]\n",
    "\n",
    "auc_roc = roc_auc_score(target_test,probabilities_one_test)\n",
    "\n",
    "print(auc_roc)"
   ]
  },
  {
   "cell_type": "markdown",
   "metadata": {},
   "source": [
    "Метрика AUC-ROC также получилась высокой."
   ]
  },
  {
   "cell_type": "markdown",
   "metadata": {},
   "source": [
    "## Чек-лист готовности проекта"
   ]
  },
  {
   "cell_type": "markdown",
   "metadata": {},
   "source": [
    "Поставьте 'x' в выполненных пунктах. Далее нажмите Shift+Enter."
   ]
  },
  {
   "cell_type": "markdown",
   "metadata": {},
   "source": [
    "- [x]  Jupyter Notebook открыт\n",
    "- [x]  Весь код выполняется без ошибок\n",
    "- [x]  Ячейки с кодом расположены в порядке исполнения\n",
    "- [x]  Выполнен шаг 1: данные подготовлены\n",
    "- [x]  Выполнен шаг 2: задача исследована\n",
    "    - [x]  Исследован баланс классов\n",
    "    - [x]  Изучены модели без учёта дисбаланса\n",
    "    - [x]  Написаны выводы по результатам исследования\n",
    "- [x]  Выполнен шаг 3: учтён дисбаланс\n",
    "    - [x]  Применено несколько способов борьбы с дисбалансом\n",
    "    - [x]  Написаны выводы по результатам исследования\n",
    "- [x]  Выполнен шаг 4: проведено тестирование\n",
    "- [x]  Удалось достичь *F1*-меры не менее 0.59\n",
    "- [x]  Исследована метрика AUC-ROC"
   ]
  },
  {
   "cell_type": "code",
   "execution_count": null,
   "metadata": {},
   "outputs": [],
   "source": []
  }
 ],
 "metadata": {
  "ExecuteTimeLog": [
   {
    "duration": 47,
    "start_time": "2022-10-30T17:24:28.212Z"
   },
   {
    "duration": 43,
    "start_time": "2022-10-30T17:24:36.002Z"
   },
   {
    "duration": 397,
    "start_time": "2022-10-30T17:24:38.586Z"
   },
   {
    "duration": 62,
    "start_time": "2022-10-30T17:25:00.451Z"
   },
   {
    "duration": 80,
    "start_time": "2022-10-30T17:25:15.458Z"
   },
   {
    "duration": 10,
    "start_time": "2022-10-30T18:06:11.064Z"
   },
   {
    "duration": 678,
    "start_time": "2022-10-30T18:59:29.306Z"
   },
   {
    "duration": 43,
    "start_time": "2022-10-30T19:01:53.784Z"
   },
   {
    "duration": 462,
    "start_time": "2022-10-30T19:02:31.906Z"
   },
   {
    "duration": 8284,
    "start_time": "2022-10-30T19:02:39.072Z"
   },
   {
    "duration": 59227,
    "start_time": "2022-10-30T19:03:01.736Z"
   },
   {
    "duration": 3,
    "start_time": "2022-10-30T19:06:04.111Z"
   },
   {
    "duration": 50,
    "start_time": "2022-11-01T11:28:27.068Z"
   },
   {
    "duration": 1104,
    "start_time": "2022-11-01T11:28:48.769Z"
   },
   {
    "duration": 81,
    "start_time": "2022-11-01T11:28:49.875Z"
   },
   {
    "duration": 11,
    "start_time": "2022-11-01T11:28:49.957Z"
   },
   {
    "duration": 21,
    "start_time": "2022-11-01T11:28:49.969Z"
   },
   {
    "duration": 7,
    "start_time": "2022-11-01T11:44:08.972Z"
   },
   {
    "duration": 6,
    "start_time": "2022-11-01T11:44:49.145Z"
   },
   {
    "duration": 101,
    "start_time": "2022-11-01T11:45:57.387Z"
   },
   {
    "duration": 22,
    "start_time": "2022-11-01T11:46:07.212Z"
   },
   {
    "duration": 10,
    "start_time": "2022-11-01T11:47:02.276Z"
   },
   {
    "duration": 5,
    "start_time": "2022-11-01T12:31:57.507Z"
   },
   {
    "duration": 10,
    "start_time": "2022-11-01T12:33:32.706Z"
   },
   {
    "duration": 3,
    "start_time": "2022-11-01T12:33:40.016Z"
   },
   {
    "duration": 4,
    "start_time": "2022-11-01T12:33:46.606Z"
   },
   {
    "duration": 20,
    "start_time": "2022-11-01T12:34:14.879Z"
   },
   {
    "duration": 6,
    "start_time": "2022-11-01T12:34:20.289Z"
   },
   {
    "duration": 10,
    "start_time": "2022-11-01T12:34:21.457Z"
   },
   {
    "duration": 10,
    "start_time": "2022-11-01T12:35:25.617Z"
   },
   {
    "duration": 6,
    "start_time": "2022-11-01T12:40:05.393Z"
   },
   {
    "duration": 4,
    "start_time": "2022-11-01T12:40:28.334Z"
   },
   {
    "duration": 81,
    "start_time": "2022-11-01T12:42:36.991Z"
   },
   {
    "duration": 400,
    "start_time": "2022-11-01T12:43:02.250Z"
   },
   {
    "duration": 5,
    "start_time": "2022-11-01T12:44:03.508Z"
   },
   {
    "duration": 155,
    "start_time": "2022-11-01T12:45:04.820Z"
   },
   {
    "duration": 194,
    "start_time": "2022-11-01T12:45:19.576Z"
   },
   {
    "duration": 5,
    "start_time": "2022-11-01T12:46:25.233Z"
   },
   {
    "duration": 8,
    "start_time": "2022-11-01T12:46:28.084Z"
   },
   {
    "duration": 5,
    "start_time": "2022-11-01T12:46:29.975Z"
   },
   {
    "duration": 159,
    "start_time": "2022-11-01T12:47:01.320Z"
   },
   {
    "duration": 1267,
    "start_time": "2022-11-01T12:47:09.298Z"
   },
   {
    "duration": 43,
    "start_time": "2022-11-01T12:47:10.567Z"
   },
   {
    "duration": 11,
    "start_time": "2022-11-01T12:47:10.612Z"
   },
   {
    "duration": 25,
    "start_time": "2022-11-01T12:47:10.626Z"
   },
   {
    "duration": 22,
    "start_time": "2022-11-01T12:47:10.653Z"
   },
   {
    "duration": 18,
    "start_time": "2022-11-01T12:47:10.676Z"
   },
   {
    "duration": 34,
    "start_time": "2022-11-01T12:47:10.695Z"
   },
   {
    "duration": 27,
    "start_time": "2022-11-01T12:47:10.731Z"
   },
   {
    "duration": 38,
    "start_time": "2022-11-01T12:47:10.759Z"
   },
   {
    "duration": 29,
    "start_time": "2022-11-01T12:47:10.799Z"
   },
   {
    "duration": 101,
    "start_time": "2022-11-01T12:49:59.362Z"
   },
   {
    "duration": 4,
    "start_time": "2022-11-01T12:50:14.938Z"
   },
   {
    "duration": 7,
    "start_time": "2022-11-01T12:50:21.109Z"
   },
   {
    "duration": 3,
    "start_time": "2022-11-01T13:12:48.064Z"
   },
   {
    "duration": 7,
    "start_time": "2022-11-01T13:15:29.611Z"
   },
   {
    "duration": 3,
    "start_time": "2022-11-01T13:17:12.647Z"
   },
   {
    "duration": 14,
    "start_time": "2022-11-01T13:18:00.247Z"
   },
   {
    "duration": 2,
    "start_time": "2022-11-01T13:18:20.983Z"
   },
   {
    "duration": 3,
    "start_time": "2022-11-01T13:18:23.325Z"
   },
   {
    "duration": 26,
    "start_time": "2022-11-01T13:18:25.096Z"
   },
   {
    "duration": 4,
    "start_time": "2022-11-01T13:18:50.849Z"
   },
   {
    "duration": 25,
    "start_time": "2022-11-01T13:18:52.076Z"
   },
   {
    "duration": 3,
    "start_time": "2022-11-01T13:20:42.846Z"
   },
   {
    "duration": 40,
    "start_time": "2022-11-01T13:20:45.331Z"
   },
   {
    "duration": 4,
    "start_time": "2022-11-01T13:21:14.421Z"
   },
   {
    "duration": 28,
    "start_time": "2022-11-01T13:21:19.483Z"
   },
   {
    "duration": 532,
    "start_time": "2022-11-01T13:27:51.806Z"
   },
   {
    "duration": 21,
    "start_time": "2022-11-01T14:15:42.670Z"
   },
   {
    "duration": 2,
    "start_time": "2022-11-01T14:15:54.521Z"
   },
   {
    "duration": 18,
    "start_time": "2022-11-01T14:16:25.030Z"
   },
   {
    "duration": 7,
    "start_time": "2022-11-01T14:19:03.775Z"
   },
   {
    "duration": 4,
    "start_time": "2022-11-01T14:20:13.278Z"
   },
   {
    "duration": 9,
    "start_time": "2022-11-01T14:20:25.537Z"
   },
   {
    "duration": 9,
    "start_time": "2022-11-01T14:20:32.958Z"
   },
   {
    "duration": 10,
    "start_time": "2022-11-01T14:20:35.918Z"
   },
   {
    "duration": 6,
    "start_time": "2022-11-01T14:24:08.343Z"
   },
   {
    "duration": 5,
    "start_time": "2022-11-01T14:24:15.416Z"
   },
   {
    "duration": 14,
    "start_time": "2022-11-01T14:24:40.509Z"
   },
   {
    "duration": 10,
    "start_time": "2022-11-01T14:24:43.820Z"
   },
   {
    "duration": 6,
    "start_time": "2022-11-01T14:25:12.830Z"
   },
   {
    "duration": 5,
    "start_time": "2022-11-01T14:25:18.796Z"
   },
   {
    "duration": 6,
    "start_time": "2022-11-01T14:25:37.021Z"
   },
   {
    "duration": 10,
    "start_time": "2022-11-01T14:27:04.673Z"
   },
   {
    "duration": 12,
    "start_time": "2022-11-01T14:27:35.559Z"
   },
   {
    "duration": 4,
    "start_time": "2022-11-01T14:29:24.142Z"
   },
   {
    "duration": 11,
    "start_time": "2022-11-01T14:29:28.326Z"
   },
   {
    "duration": 150,
    "start_time": "2022-11-01T14:31:05.824Z"
   },
   {
    "duration": 4,
    "start_time": "2022-11-01T14:58:15.834Z"
   },
   {
    "duration": 10,
    "start_time": "2022-11-01T14:58:23.333Z"
   },
   {
    "duration": 1095,
    "start_time": "2022-11-01T14:58:36.192Z"
   },
   {
    "duration": 40,
    "start_time": "2022-11-01T14:58:37.289Z"
   },
   {
    "duration": 10,
    "start_time": "2022-11-01T14:58:37.330Z"
   },
   {
    "duration": 7,
    "start_time": "2022-11-01T14:58:37.342Z"
   },
   {
    "duration": 18,
    "start_time": "2022-11-01T14:58:37.351Z"
   },
   {
    "duration": 3,
    "start_time": "2022-11-01T14:58:37.371Z"
   },
   {
    "duration": 14,
    "start_time": "2022-11-01T14:58:37.375Z"
   },
   {
    "duration": 3,
    "start_time": "2022-11-01T14:58:37.391Z"
   },
   {
    "duration": 11,
    "start_time": "2022-11-01T14:58:37.395Z"
   },
   {
    "duration": 3,
    "start_time": "2022-11-01T14:58:37.408Z"
   },
   {
    "duration": 7,
    "start_time": "2022-11-01T14:58:37.413Z"
   },
   {
    "duration": 11,
    "start_time": "2022-11-01T14:58:37.421Z"
   },
   {
    "duration": 4,
    "start_time": "2022-11-01T14:58:37.433Z"
   },
   {
    "duration": 57,
    "start_time": "2022-11-01T14:58:37.438Z"
   },
   {
    "duration": 372,
    "start_time": "2022-11-01T14:58:37.497Z"
   },
   {
    "duration": 5,
    "start_time": "2022-11-01T14:58:37.871Z"
   },
   {
    "duration": 136,
    "start_time": "2022-11-01T14:58:37.878Z"
   },
   {
    "duration": 5,
    "start_time": "2022-11-01T14:59:45.468Z"
   },
   {
    "duration": 11,
    "start_time": "2022-11-01T14:59:47.033Z"
   },
   {
    "duration": 1260,
    "start_time": "2022-11-01T15:00:04.554Z"
   },
   {
    "duration": 41,
    "start_time": "2022-11-01T15:00:05.816Z"
   },
   {
    "duration": 10,
    "start_time": "2022-11-01T15:00:05.858Z"
   },
   {
    "duration": 7,
    "start_time": "2022-11-01T15:00:05.871Z"
   },
   {
    "duration": 15,
    "start_time": "2022-11-01T15:00:05.880Z"
   },
   {
    "duration": 3,
    "start_time": "2022-11-01T15:00:05.897Z"
   },
   {
    "duration": 6,
    "start_time": "2022-11-01T15:00:05.902Z"
   },
   {
    "duration": 11,
    "start_time": "2022-11-01T15:00:05.910Z"
   },
   {
    "duration": 5,
    "start_time": "2022-11-01T15:00:05.922Z"
   },
   {
    "duration": 12,
    "start_time": "2022-11-01T15:00:05.930Z"
   },
   {
    "duration": 33,
    "start_time": "2022-11-01T15:00:05.944Z"
   },
   {
    "duration": 2,
    "start_time": "2022-11-01T15:00:05.979Z"
   },
   {
    "duration": 31,
    "start_time": "2022-11-01T15:00:05.983Z"
   },
   {
    "duration": 472,
    "start_time": "2022-11-01T15:00:06.016Z"
   },
   {
    "duration": 2,
    "start_time": "2022-11-01T15:00:06.490Z"
   },
   {
    "duration": 65,
    "start_time": "2022-11-01T15:00:06.494Z"
   },
   {
    "duration": 49,
    "start_time": "2022-11-01T15:03:57.988Z"
   },
   {
    "duration": 150,
    "start_time": "2022-11-01T15:06:05.901Z"
   },
   {
    "duration": 61,
    "start_time": "2022-11-01T15:06:15.339Z"
   },
   {
    "duration": 50,
    "start_time": "2022-11-01T15:06:16.864Z"
   },
   {
    "duration": 50,
    "start_time": "2022-11-01T15:07:52.822Z"
   },
   {
    "duration": 112,
    "start_time": "2022-11-01T15:08:08.481Z"
   },
   {
    "duration": 9,
    "start_time": "2022-11-01T15:10:43.050Z"
   },
   {
    "duration": 9,
    "start_time": "2022-11-01T15:10:53.707Z"
   },
   {
    "duration": 10,
    "start_time": "2022-11-01T15:10:58.553Z"
   },
   {
    "duration": 4,
    "start_time": "2022-11-01T15:11:04.613Z"
   },
   {
    "duration": 67,
    "start_time": "2022-11-01T15:12:28.743Z"
   },
   {
    "duration": 3,
    "start_time": "2022-11-01T15:18:40.761Z"
   },
   {
    "duration": 3,
    "start_time": "2022-11-01T15:18:49.239Z"
   },
   {
    "duration": 4,
    "start_time": "2022-11-01T15:19:33.697Z"
   },
   {
    "duration": 53,
    "start_time": "2022-11-01T15:21:10.132Z"
   },
   {
    "duration": 50,
    "start_time": "2022-11-01T15:21:36.363Z"
   },
   {
    "duration": 3,
    "start_time": "2022-11-01T15:42:13.044Z"
   },
   {
    "duration": 4,
    "start_time": "2022-11-01T15:42:59.672Z"
   },
   {
    "duration": 3,
    "start_time": "2022-11-01T15:43:24.580Z"
   },
   {
    "duration": 69,
    "start_time": "2022-11-01T15:43:59.307Z"
   },
   {
    "duration": 1356,
    "start_time": "2022-11-01T15:44:13.690Z"
   },
   {
    "duration": 42,
    "start_time": "2022-11-01T15:44:15.048Z"
   },
   {
    "duration": 10,
    "start_time": "2022-11-01T15:44:15.092Z"
   },
   {
    "duration": 3,
    "start_time": "2022-11-01T15:44:15.104Z"
   },
   {
    "duration": 19,
    "start_time": "2022-11-01T15:44:15.108Z"
   },
   {
    "duration": 4,
    "start_time": "2022-11-01T15:44:15.128Z"
   },
   {
    "duration": 7,
    "start_time": "2022-11-01T15:44:15.133Z"
   },
   {
    "duration": 15,
    "start_time": "2022-11-01T15:44:15.142Z"
   },
   {
    "duration": 19,
    "start_time": "2022-11-01T15:44:15.159Z"
   },
   {
    "duration": 14,
    "start_time": "2022-11-01T15:44:15.181Z"
   },
   {
    "duration": 37,
    "start_time": "2022-11-01T15:44:15.198Z"
   },
   {
    "duration": 16,
    "start_time": "2022-11-01T15:44:15.237Z"
   },
   {
    "duration": 43,
    "start_time": "2022-11-01T15:44:15.255Z"
   },
   {
    "duration": 59,
    "start_time": "2022-11-01T15:44:15.300Z"
   },
   {
    "duration": 388,
    "start_time": "2022-11-01T15:44:15.361Z"
   },
   {
    "duration": 30,
    "start_time": "2022-11-01T15:44:15.751Z"
   },
   {
    "duration": 101,
    "start_time": "2022-11-01T15:44:15.782Z"
   },
   {
    "duration": 146,
    "start_time": "2022-11-01T15:44:15.886Z"
   },
   {
    "duration": 1077,
    "start_time": "2022-11-01T15:44:59.173Z"
   },
   {
    "duration": 42,
    "start_time": "2022-11-01T15:45:00.252Z"
   },
   {
    "duration": 13,
    "start_time": "2022-11-01T15:45:00.296Z"
   },
   {
    "duration": 32,
    "start_time": "2022-11-01T15:45:00.311Z"
   },
   {
    "duration": 40,
    "start_time": "2022-11-01T15:45:00.345Z"
   },
   {
    "duration": 31,
    "start_time": "2022-11-01T15:45:00.387Z"
   },
   {
    "duration": 33,
    "start_time": "2022-11-01T15:45:00.420Z"
   },
   {
    "duration": 30,
    "start_time": "2022-11-01T15:45:00.455Z"
   },
   {
    "duration": 23,
    "start_time": "2022-11-01T15:45:00.486Z"
   },
   {
    "duration": 46,
    "start_time": "2022-11-01T15:45:00.512Z"
   },
   {
    "duration": 47,
    "start_time": "2022-11-01T15:45:00.560Z"
   },
   {
    "duration": 29,
    "start_time": "2022-11-01T15:45:00.608Z"
   },
   {
    "duration": 72,
    "start_time": "2022-11-01T15:45:00.638Z"
   },
   {
    "duration": 53,
    "start_time": "2022-11-01T15:45:00.711Z"
   },
   {
    "duration": 360,
    "start_time": "2022-11-01T15:45:00.766Z"
   },
   {
    "duration": 50,
    "start_time": "2022-11-01T15:45:01.128Z"
   },
   {
    "duration": 110,
    "start_time": "2022-11-01T15:45:01.180Z"
   },
   {
    "duration": 68,
    "start_time": "2022-11-01T15:45:01.292Z"
   },
   {
    "duration": 93,
    "start_time": "2022-11-01T15:45:20.290Z"
   },
   {
    "duration": 48,
    "start_time": "2022-11-01T15:51:30.162Z"
   },
   {
    "duration": 14,
    "start_time": "2022-11-01T15:51:58.006Z"
   },
   {
    "duration": 43,
    "start_time": "2022-11-01T15:52:12.646Z"
   },
   {
    "duration": 112,
    "start_time": "2022-11-01T18:11:13.525Z"
   },
   {
    "duration": 4,
    "start_time": "2022-11-01T18:12:49.202Z"
   },
   {
    "duration": 1004,
    "start_time": "2022-11-01T18:13:12.836Z"
   },
   {
    "duration": 41,
    "start_time": "2022-11-01T18:13:13.843Z"
   },
   {
    "duration": 11,
    "start_time": "2022-11-01T18:13:13.886Z"
   },
   {
    "duration": 6,
    "start_time": "2022-11-01T18:13:13.899Z"
   },
   {
    "duration": 15,
    "start_time": "2022-11-01T18:13:13.907Z"
   },
   {
    "duration": 3,
    "start_time": "2022-11-01T18:13:13.923Z"
   },
   {
    "duration": 11,
    "start_time": "2022-11-01T18:13:13.927Z"
   },
   {
    "duration": 12,
    "start_time": "2022-11-01T18:13:13.939Z"
   },
   {
    "duration": 5,
    "start_time": "2022-11-01T18:13:13.952Z"
   },
   {
    "duration": 6,
    "start_time": "2022-11-01T18:13:13.977Z"
   },
   {
    "duration": 11,
    "start_time": "2022-11-01T18:13:13.984Z"
   },
   {
    "duration": 5,
    "start_time": "2022-11-01T18:13:13.996Z"
   },
   {
    "duration": 35,
    "start_time": "2022-11-01T18:13:14.002Z"
   },
   {
    "duration": 66,
    "start_time": "2022-11-01T18:13:14.038Z"
   },
   {
    "duration": 353,
    "start_time": "2022-11-01T18:13:14.106Z"
   },
   {
    "duration": 25,
    "start_time": "2022-11-01T18:13:14.461Z"
   },
   {
    "duration": 96,
    "start_time": "2022-11-01T18:13:14.487Z"
   },
   {
    "duration": 140,
    "start_time": "2022-11-01T18:13:14.585Z"
   },
   {
    "duration": 51,
    "start_time": "2022-11-01T18:13:14.727Z"
   },
   {
    "duration": 306,
    "start_time": "2022-11-01T18:13:14.779Z"
   },
   {
    "duration": 16,
    "start_time": "2022-11-01T18:14:05.338Z"
   },
   {
    "duration": 44,
    "start_time": "2022-11-01T18:14:58.065Z"
   },
   {
    "duration": 14,
    "start_time": "2022-11-01T18:19:20.510Z"
   },
   {
    "duration": 20,
    "start_time": "2022-11-01T18:19:36.462Z"
   },
   {
    "duration": 1117,
    "start_time": "2022-11-01T18:20:51.468Z"
   },
   {
    "duration": 40,
    "start_time": "2022-11-01T18:20:52.587Z"
   },
   {
    "duration": 12,
    "start_time": "2022-11-01T18:20:52.629Z"
   },
   {
    "duration": 3,
    "start_time": "2022-11-01T18:20:52.643Z"
   },
   {
    "duration": 14,
    "start_time": "2022-11-01T18:20:52.647Z"
   },
   {
    "duration": 3,
    "start_time": "2022-11-01T18:20:52.662Z"
   },
   {
    "duration": 7,
    "start_time": "2022-11-01T18:20:52.667Z"
   },
   {
    "duration": 13,
    "start_time": "2022-11-01T18:20:52.676Z"
   },
   {
    "duration": 4,
    "start_time": "2022-11-01T18:20:52.690Z"
   },
   {
    "duration": 7,
    "start_time": "2022-11-01T18:20:52.697Z"
   },
   {
    "duration": 11,
    "start_time": "2022-11-01T18:20:52.706Z"
   },
   {
    "duration": 3,
    "start_time": "2022-11-01T18:20:52.718Z"
   },
   {
    "duration": 37,
    "start_time": "2022-11-01T18:20:52.723Z"
   },
   {
    "duration": 49,
    "start_time": "2022-11-01T18:20:52.776Z"
   },
   {
    "duration": 357,
    "start_time": "2022-11-01T18:20:52.827Z"
   },
   {
    "duration": 19,
    "start_time": "2022-11-01T18:20:53.185Z"
   },
   {
    "duration": 74,
    "start_time": "2022-11-01T18:20:53.206Z"
   },
   {
    "duration": 140,
    "start_time": "2022-11-01T18:20:53.282Z"
   },
   {
    "duration": 58,
    "start_time": "2022-11-01T18:20:53.424Z"
   },
   {
    "duration": 214,
    "start_time": "2022-11-01T18:20:53.485Z"
   },
   {
    "duration": 176,
    "start_time": "2022-11-01T18:20:53.701Z"
   },
   {
    "duration": 21,
    "start_time": "2022-11-01T18:24:15.546Z"
   },
   {
    "duration": 417,
    "start_time": "2022-11-01T18:25:06.461Z"
   },
   {
    "duration": 1197,
    "start_time": "2022-11-01T18:25:16.495Z"
   },
   {
    "duration": 32,
    "start_time": "2022-11-01T18:25:21.881Z"
   },
   {
    "duration": 96,
    "start_time": "2022-11-01T18:25:59.309Z"
   },
   {
    "duration": 110,
    "start_time": "2022-11-01T18:26:59.080Z"
   },
   {
    "duration": 17,
    "start_time": "2022-11-01T18:27:14.371Z"
   },
   {
    "duration": 22,
    "start_time": "2022-11-01T18:27:21.936Z"
   },
   {
    "duration": 621,
    "start_time": "2022-11-01T18:27:37.837Z"
   },
   {
    "duration": 1137,
    "start_time": "2022-11-01T18:27:58.342Z"
   },
   {
    "duration": 42,
    "start_time": "2022-11-01T18:27:59.481Z"
   },
   {
    "duration": 10,
    "start_time": "2022-11-01T18:27:59.525Z"
   },
   {
    "duration": 3,
    "start_time": "2022-11-01T18:27:59.537Z"
   },
   {
    "duration": 29,
    "start_time": "2022-11-01T18:27:59.541Z"
   },
   {
    "duration": 4,
    "start_time": "2022-11-01T18:27:59.572Z"
   },
   {
    "duration": 8,
    "start_time": "2022-11-01T18:27:59.577Z"
   },
   {
    "duration": 11,
    "start_time": "2022-11-01T18:27:59.587Z"
   },
   {
    "duration": 4,
    "start_time": "2022-11-01T18:27:59.600Z"
   },
   {
    "duration": 7,
    "start_time": "2022-11-01T18:27:59.607Z"
   },
   {
    "duration": 10,
    "start_time": "2022-11-01T18:27:59.616Z"
   },
   {
    "duration": 3,
    "start_time": "2022-11-01T18:27:59.627Z"
   },
   {
    "duration": 57,
    "start_time": "2022-11-01T18:27:59.632Z"
   },
   {
    "duration": 51,
    "start_time": "2022-11-01T18:27:59.691Z"
   },
   {
    "duration": 376,
    "start_time": "2022-11-01T18:27:59.744Z"
   },
   {
    "duration": 57,
    "start_time": "2022-11-01T18:28:00.122Z"
   },
   {
    "duration": 98,
    "start_time": "2022-11-01T18:28:00.182Z"
   },
   {
    "duration": 92,
    "start_time": "2022-11-01T18:28:00.281Z"
   },
   {
    "duration": 45,
    "start_time": "2022-11-01T18:28:00.375Z"
   },
   {
    "duration": 203,
    "start_time": "2022-11-01T18:28:00.477Z"
   },
   {
    "duration": 866,
    "start_time": "2022-11-01T18:28:00.682Z"
   },
   {
    "duration": 1,
    "start_time": "2022-11-01T18:28:01.550Z"
   },
   {
    "duration": 1997,
    "start_time": "2022-11-01T18:29:49.451Z"
   },
   {
    "duration": 1997,
    "start_time": "2022-11-01T18:30:09.315Z"
   },
   {
    "duration": 42,
    "start_time": "2022-11-01T18:31:18.056Z"
   },
   {
    "duration": 85,
    "start_time": "2022-11-01T18:31:24.105Z"
   },
   {
    "duration": 82,
    "start_time": "2022-11-01T18:31:29.014Z"
   },
   {
    "duration": 99,
    "start_time": "2022-11-01T18:31:35.310Z"
   },
   {
    "duration": 108,
    "start_time": "2022-11-01T18:31:39.245Z"
   },
   {
    "duration": 97,
    "start_time": "2022-11-01T18:31:45.500Z"
   },
   {
    "duration": 73,
    "start_time": "2022-11-01T18:43:51.327Z"
   },
   {
    "duration": 82,
    "start_time": "2022-11-01T18:44:41.561Z"
   },
   {
    "duration": 82,
    "start_time": "2022-11-01T18:45:01.070Z"
   },
   {
    "duration": 1044,
    "start_time": "2022-11-01T18:45:22.129Z"
   },
   {
    "duration": 42,
    "start_time": "2022-11-01T18:45:23.175Z"
   },
   {
    "duration": 10,
    "start_time": "2022-11-01T18:45:23.219Z"
   },
   {
    "duration": 3,
    "start_time": "2022-11-01T18:45:23.231Z"
   },
   {
    "duration": 17,
    "start_time": "2022-11-01T18:45:23.236Z"
   },
   {
    "duration": 4,
    "start_time": "2022-11-01T18:45:23.255Z"
   },
   {
    "duration": 7,
    "start_time": "2022-11-01T18:45:23.260Z"
   },
   {
    "duration": 14,
    "start_time": "2022-11-01T18:45:23.268Z"
   },
   {
    "duration": 4,
    "start_time": "2022-11-01T18:45:23.284Z"
   },
   {
    "duration": 10,
    "start_time": "2022-11-01T18:45:23.290Z"
   },
   {
    "duration": 12,
    "start_time": "2022-11-01T18:45:23.302Z"
   },
   {
    "duration": 3,
    "start_time": "2022-11-01T18:45:23.317Z"
   },
   {
    "duration": 58,
    "start_time": "2022-11-01T18:45:23.321Z"
   },
   {
    "duration": 53,
    "start_time": "2022-11-01T18:45:23.382Z"
   },
   {
    "duration": 385,
    "start_time": "2022-11-01T18:45:23.437Z"
   },
   {
    "duration": 57,
    "start_time": "2022-11-01T18:45:23.824Z"
   },
   {
    "duration": 5,
    "start_time": "2022-11-01T18:45:23.884Z"
   },
   {
    "duration": 137,
    "start_time": "2022-11-01T18:45:23.891Z"
   },
   {
    "duration": 50,
    "start_time": "2022-11-01T18:45:24.030Z"
   },
   {
    "duration": 220,
    "start_time": "2022-11-01T18:45:24.081Z"
   },
   {
    "duration": 243,
    "start_time": "2022-11-01T18:45:24.302Z"
   },
   {
    "duration": 32,
    "start_time": "2022-11-01T18:45:24.546Z"
   },
   {
    "duration": 1079,
    "start_time": "2022-11-01T19:13:12.968Z"
   },
   {
    "duration": 39,
    "start_time": "2022-11-01T19:13:14.049Z"
   },
   {
    "duration": 9,
    "start_time": "2022-11-01T19:13:14.090Z"
   },
   {
    "duration": 3,
    "start_time": "2022-11-01T19:13:14.101Z"
   },
   {
    "duration": 15,
    "start_time": "2022-11-01T19:13:14.105Z"
   },
   {
    "duration": 3,
    "start_time": "2022-11-01T19:13:14.121Z"
   },
   {
    "duration": 5,
    "start_time": "2022-11-01T19:13:14.126Z"
   },
   {
    "duration": 13,
    "start_time": "2022-11-01T19:13:14.132Z"
   },
   {
    "duration": 13,
    "start_time": "2022-11-01T19:13:14.147Z"
   },
   {
    "duration": 18,
    "start_time": "2022-11-01T19:13:14.162Z"
   },
   {
    "duration": 9,
    "start_time": "2022-11-01T19:13:14.181Z"
   },
   {
    "duration": 3,
    "start_time": "2022-11-01T19:13:14.192Z"
   },
   {
    "duration": 7,
    "start_time": "2022-11-01T19:13:14.196Z"
   },
   {
    "duration": 25,
    "start_time": "2022-11-01T19:13:14.204Z"
   },
   {
    "duration": 68,
    "start_time": "2022-11-01T19:13:14.231Z"
   },
   {
    "duration": 356,
    "start_time": "2022-11-01T19:13:14.301Z"
   },
   {
    "duration": 21,
    "start_time": "2022-11-01T19:13:14.659Z"
   },
   {
    "duration": 97,
    "start_time": "2022-11-01T19:13:14.682Z"
   },
   {
    "duration": 143,
    "start_time": "2022-11-01T19:13:14.781Z"
   },
   {
    "duration": 66,
    "start_time": "2022-11-01T19:13:14.926Z"
   },
   {
    "duration": 207,
    "start_time": "2022-11-01T19:13:14.994Z"
   },
   {
    "duration": 265,
    "start_time": "2022-11-01T19:13:15.203Z"
   },
   {
    "duration": 15,
    "start_time": "2022-11-01T19:13:15.476Z"
   },
   {
    "duration": 1111,
    "start_time": "2022-11-01T19:13:46.469Z"
   },
   {
    "duration": 41,
    "start_time": "2022-11-01T19:13:47.582Z"
   },
   {
    "duration": 12,
    "start_time": "2022-11-01T19:13:47.625Z"
   },
   {
    "duration": 5,
    "start_time": "2022-11-01T19:13:47.639Z"
   },
   {
    "duration": 13,
    "start_time": "2022-11-01T19:13:47.646Z"
   },
   {
    "duration": 3,
    "start_time": "2022-11-01T19:13:47.661Z"
   },
   {
    "duration": 11,
    "start_time": "2022-11-01T19:13:47.666Z"
   },
   {
    "duration": 11,
    "start_time": "2022-11-01T19:13:47.679Z"
   },
   {
    "duration": 6,
    "start_time": "2022-11-01T19:13:47.692Z"
   },
   {
    "duration": 11,
    "start_time": "2022-11-01T19:13:47.699Z"
   },
   {
    "duration": 10,
    "start_time": "2022-11-01T19:13:47.712Z"
   },
   {
    "duration": 10,
    "start_time": "2022-11-01T19:13:47.724Z"
   },
   {
    "duration": 47,
    "start_time": "2022-11-01T19:13:47.736Z"
   },
   {
    "duration": 50,
    "start_time": "2022-11-01T19:13:47.786Z"
   },
   {
    "duration": 368,
    "start_time": "2022-11-01T19:13:47.838Z"
   },
   {
    "duration": 16,
    "start_time": "2022-11-01T19:13:48.207Z"
   },
   {
    "duration": 63,
    "start_time": "2022-11-01T19:13:48.224Z"
   },
   {
    "duration": 139,
    "start_time": "2022-11-01T19:13:48.288Z"
   },
   {
    "duration": 51,
    "start_time": "2022-11-01T19:13:48.429Z"
   },
   {
    "duration": 218,
    "start_time": "2022-11-01T19:13:48.482Z"
   },
   {
    "duration": 254,
    "start_time": "2022-11-01T19:13:48.702Z"
   },
   {
    "duration": 27,
    "start_time": "2022-11-01T19:13:48.958Z"
   },
   {
    "duration": 14,
    "start_time": "2022-11-01T19:14:31.017Z"
   },
   {
    "duration": 108,
    "start_time": "2022-11-01T19:15:58.890Z"
   },
   {
    "duration": 21,
    "start_time": "2022-11-01T19:16:08.790Z"
   },
   {
    "duration": 92,
    "start_time": "2022-11-01T19:16:16.285Z"
   },
   {
    "duration": 83,
    "start_time": "2022-11-01T19:17:16.295Z"
   },
   {
    "duration": 75,
    "start_time": "2022-11-01T19:17:49.983Z"
   },
   {
    "duration": 10,
    "start_time": "2022-11-01T19:21:35.917Z"
   },
   {
    "duration": 4,
    "start_time": "2022-11-01T19:22:56.165Z"
   },
   {
    "duration": 82021,
    "start_time": "2022-11-01T19:23:00.492Z"
   },
   {
    "duration": 51,
    "start_time": "2022-11-01T19:26:27.129Z"
   },
   {
    "duration": 14,
    "start_time": "2022-11-01T19:26:37.028Z"
   },
   {
    "duration": 81,
    "start_time": "2022-11-01T19:27:19.212Z"
   },
   {
    "duration": 62,
    "start_time": "2022-11-01T19:27:31.599Z"
   },
   {
    "duration": 84296,
    "start_time": "2022-11-01T19:27:44.985Z"
   },
   {
    "duration": 973,
    "start_time": "2022-11-01T19:29:33.496Z"
   },
   {
    "duration": 186,
    "start_time": "2022-11-01T19:30:34.591Z"
   },
   {
    "duration": 84735,
    "start_time": "2022-11-01T19:30:43.464Z"
   },
   {
    "duration": 953,
    "start_time": "2022-11-01T19:32:08.202Z"
   },
   {
    "duration": 19,
    "start_time": "2022-11-01T19:32:09.157Z"
   },
   {
    "duration": 1004,
    "start_time": "2022-11-01T19:32:26.059Z"
   },
   {
    "duration": 10,
    "start_time": "2022-11-01T19:32:33.280Z"
   },
   {
    "duration": 11,
    "start_time": "2022-11-01T19:33:04.878Z"
   },
   {
    "duration": 525,
    "start_time": "2022-11-01T19:33:30.898Z"
   },
   {
    "duration": 912,
    "start_time": "2022-11-01T19:33:48.468Z"
   },
   {
    "duration": 15,
    "start_time": "2022-11-01T19:35:58.556Z"
   },
   {
    "duration": 43,
    "start_time": "2022-11-01T19:36:17.188Z"
   },
   {
    "duration": 13,
    "start_time": "2022-11-01T19:36:20.344Z"
   },
   {
    "duration": 1101,
    "start_time": "2022-11-01T19:40:59.963Z"
   },
   {
    "duration": 42,
    "start_time": "2022-11-01T19:41:01.066Z"
   },
   {
    "duration": 10,
    "start_time": "2022-11-01T19:41:01.109Z"
   },
   {
    "duration": 23,
    "start_time": "2022-11-01T19:41:01.121Z"
   },
   {
    "duration": 39,
    "start_time": "2022-11-01T19:41:01.145Z"
   },
   {
    "duration": 20,
    "start_time": "2022-11-01T19:41:01.186Z"
   },
   {
    "duration": 23,
    "start_time": "2022-11-01T19:41:01.208Z"
   },
   {
    "duration": 40,
    "start_time": "2022-11-01T19:41:01.232Z"
   },
   {
    "duration": 41,
    "start_time": "2022-11-01T19:41:01.273Z"
   },
   {
    "duration": 45,
    "start_time": "2022-11-01T19:41:01.318Z"
   },
   {
    "duration": 37,
    "start_time": "2022-11-01T19:41:01.365Z"
   },
   {
    "duration": 6,
    "start_time": "2022-11-01T19:41:01.404Z"
   },
   {
    "duration": 69,
    "start_time": "2022-11-01T19:41:01.412Z"
   },
   {
    "duration": 62,
    "start_time": "2022-11-01T19:41:01.483Z"
   },
   {
    "duration": 391,
    "start_time": "2022-11-01T19:41:01.547Z"
   },
   {
    "duration": 39,
    "start_time": "2022-11-01T19:41:01.940Z"
   },
   {
    "duration": 94,
    "start_time": "2022-11-01T19:41:01.982Z"
   },
   {
    "duration": 71,
    "start_time": "2022-11-01T19:41:02.079Z"
   },
   {
    "duration": 127,
    "start_time": "2022-11-01T19:41:02.152Z"
   },
   {
    "duration": 200,
    "start_time": "2022-11-01T19:41:02.280Z"
   },
   {
    "duration": 175,
    "start_time": "2022-11-01T19:41:02.483Z"
   },
   {
    "duration": 458904,
    "start_time": "2022-11-01T19:41:02.660Z"
   },
   {
    "duration": 1068,
    "start_time": "2022-11-01T19:48:41.566Z"
   },
   {
    "duration": 1053,
    "start_time": "2022-11-01T19:48:42.636Z"
   },
   {
    "duration": 826,
    "start_time": "2022-11-01T19:50:33.228Z"
   },
   {
    "duration": 1042,
    "start_time": "2022-11-01T19:50:59.862Z"
   },
   {
    "duration": 895,
    "start_time": "2022-11-01T19:51:07.456Z"
   },
   {
    "duration": 1072,
    "start_time": "2022-11-01T19:51:15.706Z"
   },
   {
    "duration": 819,
    "start_time": "2022-11-01T19:51:37.035Z"
   },
   {
    "duration": 1048,
    "start_time": "2022-11-01T19:51:45.856Z"
   },
   {
    "duration": 1082,
    "start_time": "2022-11-01T19:51:57.562Z"
   },
   {
    "duration": 1099,
    "start_time": "2022-11-01T20:17:29.394Z"
   },
   {
    "duration": 40,
    "start_time": "2022-11-01T20:17:30.496Z"
   },
   {
    "duration": 11,
    "start_time": "2022-11-01T20:17:30.538Z"
   },
   {
    "duration": 64,
    "start_time": "2022-11-01T20:17:30.551Z"
   },
   {
    "duration": 42,
    "start_time": "2022-11-01T20:17:30.617Z"
   },
   {
    "duration": 13,
    "start_time": "2022-11-01T20:17:30.660Z"
   },
   {
    "duration": 40,
    "start_time": "2022-11-01T20:17:30.674Z"
   },
   {
    "duration": 56,
    "start_time": "2022-11-01T20:17:30.716Z"
   },
   {
    "duration": 44,
    "start_time": "2022-11-01T20:17:30.774Z"
   },
   {
    "duration": 23,
    "start_time": "2022-11-01T20:17:30.820Z"
   },
   {
    "duration": 22,
    "start_time": "2022-11-01T20:17:30.845Z"
   },
   {
    "duration": 32,
    "start_time": "2022-11-01T20:17:30.868Z"
   },
   {
    "duration": 96,
    "start_time": "2022-11-01T20:17:30.902Z"
   },
   {
    "duration": 74,
    "start_time": "2022-11-01T20:17:31.001Z"
   },
   {
    "duration": 414,
    "start_time": "2022-11-01T20:17:31.076Z"
   },
   {
    "duration": 22,
    "start_time": "2022-11-01T20:17:31.492Z"
   },
   {
    "duration": 104,
    "start_time": "2022-11-01T20:17:31.579Z"
   },
   {
    "duration": 56,
    "start_time": "2022-11-01T20:17:31.684Z"
   },
   {
    "duration": 65,
    "start_time": "2022-11-01T20:17:31.741Z"
   },
   {
    "duration": 132,
    "start_time": "2022-11-01T20:17:31.884Z"
   },
   {
    "duration": 169,
    "start_time": "2022-11-01T20:17:32.080Z"
   },
   {
    "duration": 844665,
    "start_time": "2022-11-01T20:17:32.251Z"
   },
   {
    "duration": 1077,
    "start_time": "2022-11-01T20:31:36.918Z"
   },
   {
    "duration": 121,
    "start_time": "2022-11-01T20:31:37.996Z"
   },
   {
    "duration": 0,
    "start_time": "2022-11-01T20:31:38.119Z"
   },
   {
    "duration": 941,
    "start_time": "2022-11-01T20:32:48.295Z"
   },
   {
    "duration": 19,
    "start_time": "2022-11-01T20:34:32.449Z"
   },
   {
    "duration": 101,
    "start_time": "2022-11-01T20:36:24.278Z"
   },
   {
    "duration": 252,
    "start_time": "2022-11-01T20:36:45.384Z"
   },
   {
    "duration": 956,
    "start_time": "2022-11-01T20:39:54.365Z"
   },
   {
    "duration": 1077,
    "start_time": "2022-11-01T20:40:12.959Z"
   },
   {
    "duration": 41,
    "start_time": "2022-11-01T20:40:14.037Z"
   },
   {
    "duration": 11,
    "start_time": "2022-11-01T20:40:14.089Z"
   },
   {
    "duration": 4,
    "start_time": "2022-11-01T20:40:14.102Z"
   },
   {
    "duration": 19,
    "start_time": "2022-11-01T20:40:14.108Z"
   },
   {
    "duration": 4,
    "start_time": "2022-11-01T20:40:14.128Z"
   },
   {
    "duration": 5,
    "start_time": "2022-11-01T20:40:14.133Z"
   },
   {
    "duration": 4,
    "start_time": "2022-11-01T20:40:14.140Z"
   },
   {
    "duration": 149,
    "start_time": "2022-11-01T20:40:14.145Z"
   },
   {
    "duration": 0,
    "start_time": "2022-11-01T20:40:14.296Z"
   },
   {
    "duration": 0,
    "start_time": "2022-11-01T20:40:14.298Z"
   },
   {
    "duration": 0,
    "start_time": "2022-11-01T20:40:14.300Z"
   },
   {
    "duration": 0,
    "start_time": "2022-11-01T20:40:14.301Z"
   },
   {
    "duration": 0,
    "start_time": "2022-11-01T20:40:14.302Z"
   },
   {
    "duration": 0,
    "start_time": "2022-11-01T20:40:14.303Z"
   },
   {
    "duration": 0,
    "start_time": "2022-11-01T20:40:14.304Z"
   },
   {
    "duration": 0,
    "start_time": "2022-11-01T20:40:14.305Z"
   },
   {
    "duration": 0,
    "start_time": "2022-11-01T20:40:14.306Z"
   },
   {
    "duration": 0,
    "start_time": "2022-11-01T20:40:14.307Z"
   },
   {
    "duration": 0,
    "start_time": "2022-11-01T20:40:14.308Z"
   },
   {
    "duration": 0,
    "start_time": "2022-11-01T20:40:14.308Z"
   },
   {
    "duration": 0,
    "start_time": "2022-11-01T20:40:14.309Z"
   },
   {
    "duration": 0,
    "start_time": "2022-11-01T20:40:14.310Z"
   },
   {
    "duration": 0,
    "start_time": "2022-11-01T20:40:14.311Z"
   },
   {
    "duration": 0,
    "start_time": "2022-11-01T20:40:14.312Z"
   },
   {
    "duration": 1024,
    "start_time": "2022-11-01T20:41:59.243Z"
   },
   {
    "duration": 46,
    "start_time": "2022-11-01T20:42:00.269Z"
   },
   {
    "duration": 10,
    "start_time": "2022-11-01T20:42:00.317Z"
   },
   {
    "duration": 26,
    "start_time": "2022-11-01T20:42:00.329Z"
   },
   {
    "duration": 40,
    "start_time": "2022-11-01T20:42:00.357Z"
   },
   {
    "duration": 30,
    "start_time": "2022-11-01T20:42:00.399Z"
   },
   {
    "duration": 22,
    "start_time": "2022-11-01T20:42:00.430Z"
   },
   {
    "duration": 33,
    "start_time": "2022-11-01T20:42:00.454Z"
   },
   {
    "duration": 21,
    "start_time": "2022-11-01T20:42:00.489Z"
   },
   {
    "duration": 28,
    "start_time": "2022-11-01T20:42:00.512Z"
   },
   {
    "duration": 16,
    "start_time": "2022-11-01T20:42:00.541Z"
   },
   {
    "duration": 28,
    "start_time": "2022-11-01T20:42:00.559Z"
   },
   {
    "duration": 48,
    "start_time": "2022-11-01T20:42:00.592Z"
   },
   {
    "duration": 49,
    "start_time": "2022-11-01T20:42:00.643Z"
   },
   {
    "duration": 353,
    "start_time": "2022-11-01T20:42:00.693Z"
   },
   {
    "duration": 48,
    "start_time": "2022-11-01T20:42:01.047Z"
   },
   {
    "duration": 14,
    "start_time": "2022-11-01T20:42:01.181Z"
   },
   {
    "duration": 60,
    "start_time": "2022-11-01T20:42:01.197Z"
   },
   {
    "duration": 49,
    "start_time": "2022-11-01T20:42:01.259Z"
   },
   {
    "duration": 132,
    "start_time": "2022-11-01T20:42:01.379Z"
   },
   {
    "duration": 238,
    "start_time": "2022-11-01T20:42:01.513Z"
   },
   {
    "duration": 1052,
    "start_time": "2022-11-01T20:53:38.888Z"
   },
   {
    "duration": 48,
    "start_time": "2022-11-01T20:53:39.941Z"
   },
   {
    "duration": 9,
    "start_time": "2022-11-01T20:53:39.991Z"
   },
   {
    "duration": 9,
    "start_time": "2022-11-01T20:53:40.002Z"
   },
   {
    "duration": 18,
    "start_time": "2022-11-01T20:53:40.012Z"
   },
   {
    "duration": 3,
    "start_time": "2022-11-01T20:53:40.032Z"
   },
   {
    "duration": 11,
    "start_time": "2022-11-01T20:53:40.036Z"
   },
   {
    "duration": 15,
    "start_time": "2022-11-01T20:53:40.049Z"
   },
   {
    "duration": 7,
    "start_time": "2022-11-01T20:53:40.065Z"
   },
   {
    "duration": 25,
    "start_time": "2022-11-01T20:53:40.074Z"
   },
   {
    "duration": 9,
    "start_time": "2022-11-01T20:53:40.100Z"
   },
   {
    "duration": 6,
    "start_time": "2022-11-01T20:53:40.111Z"
   },
   {
    "duration": 35,
    "start_time": "2022-11-01T20:53:40.118Z"
   },
   {
    "duration": 50,
    "start_time": "2022-11-01T20:53:40.155Z"
   },
   {
    "duration": 385,
    "start_time": "2022-11-01T20:53:40.207Z"
   },
   {
    "duration": 22,
    "start_time": "2022-11-01T20:53:40.596Z"
   },
   {
    "duration": 5,
    "start_time": "2022-11-01T20:53:40.687Z"
   },
   {
    "duration": 158,
    "start_time": "2022-11-01T20:53:40.693Z"
   },
   {
    "duration": 43,
    "start_time": "2022-11-01T20:53:40.854Z"
   },
   {
    "duration": 188,
    "start_time": "2022-11-01T20:53:40.899Z"
   },
   {
    "duration": 282,
    "start_time": "2022-11-01T20:53:41.089Z"
   },
   {
    "duration": 296,
    "start_time": "2022-11-01T20:53:41.373Z"
   },
   {
    "duration": 0,
    "start_time": "2022-11-01T20:53:41.671Z"
   },
   {
    "duration": 0,
    "start_time": "2022-11-01T20:53:41.672Z"
   },
   {
    "duration": 0,
    "start_time": "2022-11-01T20:53:41.673Z"
   },
   {
    "duration": 185,
    "start_time": "2022-11-01T20:55:29.598Z"
   },
   {
    "duration": 837857,
    "start_time": "2022-11-01T20:55:37.426Z"
   },
   {
    "duration": 962,
    "start_time": "2022-11-01T21:11:34.097Z"
   },
   {
    "duration": 190,
    "start_time": "2022-11-01T21:11:38.022Z"
   },
   {
    "duration": 1067,
    "start_time": "2022-11-01T21:11:43.890Z"
   },
   {
    "duration": 1046,
    "start_time": "2022-11-01T21:18:37.613Z"
   },
   {
    "duration": 1346,
    "start_time": "2022-11-01T21:18:42.947Z"
   },
   {
    "duration": 1559,
    "start_time": "2022-11-01T21:18:47.462Z"
   },
   {
    "duration": 1711,
    "start_time": "2022-11-01T21:18:53.051Z"
   },
   {
    "duration": 3752,
    "start_time": "2022-11-01T21:19:14.092Z"
   },
   {
    "duration": 8128,
    "start_time": "2022-11-01T21:19:25.228Z"
   },
   {
    "duration": 16546,
    "start_time": "2022-11-01T21:19:41.805Z"
   },
   {
    "duration": 924,
    "start_time": "2022-11-01T21:20:06.532Z"
   },
   {
    "duration": 20,
    "start_time": "2022-11-01T21:20:58.521Z"
   },
   {
    "duration": 4,
    "start_time": "2022-11-01T21:21:20.273Z"
   },
   {
    "duration": 15,
    "start_time": "2022-11-01T21:21:26.090Z"
   },
   {
    "duration": 16,
    "start_time": "2022-11-01T21:21:48.438Z"
   },
   {
    "duration": 27,
    "start_time": "2022-11-01T21:23:23.166Z"
   },
   {
    "duration": 27,
    "start_time": "2022-11-01T21:23:28.071Z"
   },
   {
    "duration": 42,
    "start_time": "2022-11-01T21:23:45.351Z"
   },
   {
    "duration": 874,
    "start_time": "2022-11-01T21:26:01.011Z"
   },
   {
    "duration": 595,
    "start_time": "2022-11-01T21:32:57.773Z"
   },
   {
    "duration": 544,
    "start_time": "2022-11-01T21:33:03.728Z"
   },
   {
    "duration": 1519,
    "start_time": "2022-11-01T21:33:14.342Z"
   },
   {
    "duration": 1285,
    "start_time": "2022-11-01T21:33:21.532Z"
   },
   {
    "duration": 1167,
    "start_time": "2022-11-01T21:33:29.366Z"
   },
   {
    "duration": 50,
    "start_time": "2022-11-01T21:33:43.996Z"
   },
   {
    "duration": 709,
    "start_time": "2022-11-01T21:33:50.060Z"
   },
   {
    "duration": 5282,
    "start_time": "2022-11-01T21:34:01.454Z"
   },
   {
    "duration": 684,
    "start_time": "2022-11-01T21:34:10.315Z"
   },
   {
    "duration": 3,
    "start_time": "2022-11-01T21:55:12.184Z"
   },
   {
    "duration": 1032,
    "start_time": "2022-11-01T21:55:18.809Z"
   },
   {
    "duration": 42,
    "start_time": "2022-11-01T21:55:19.842Z"
   },
   {
    "duration": 9,
    "start_time": "2022-11-01T21:55:19.885Z"
   },
   {
    "duration": 3,
    "start_time": "2022-11-01T21:55:19.896Z"
   },
   {
    "duration": 12,
    "start_time": "2022-11-01T21:55:19.900Z"
   },
   {
    "duration": 3,
    "start_time": "2022-11-01T21:55:19.914Z"
   },
   {
    "duration": 6,
    "start_time": "2022-11-01T21:55:19.919Z"
   },
   {
    "duration": 12,
    "start_time": "2022-11-01T21:55:19.927Z"
   },
   {
    "duration": 4,
    "start_time": "2022-11-01T21:55:19.940Z"
   },
   {
    "duration": 32,
    "start_time": "2022-11-01T21:55:19.946Z"
   },
   {
    "duration": 10,
    "start_time": "2022-11-01T21:55:19.980Z"
   },
   {
    "duration": 3,
    "start_time": "2022-11-01T21:55:19.991Z"
   },
   {
    "duration": 7,
    "start_time": "2022-11-01T21:55:19.995Z"
   },
   {
    "duration": 59,
    "start_time": "2022-11-01T21:55:20.004Z"
   },
   {
    "duration": 345,
    "start_time": "2022-11-01T21:55:20.065Z"
   },
   {
    "duration": 20,
    "start_time": "2022-11-01T21:55:20.412Z"
   },
   {
    "duration": 7,
    "start_time": "2022-11-01T21:55:20.482Z"
   },
   {
    "duration": 49,
    "start_time": "2022-11-01T21:55:20.577Z"
   },
   {
    "duration": 53,
    "start_time": "2022-11-01T21:55:20.628Z"
   },
   {
    "duration": 217,
    "start_time": "2022-11-01T21:55:20.683Z"
   },
   {
    "duration": 252,
    "start_time": "2022-11-01T21:55:20.901Z"
   },
   {
    "duration": 42,
    "start_time": "2022-11-01T21:55:21.155Z"
   },
   {
    "duration": 0,
    "start_time": "2022-11-01T21:55:21.199Z"
   },
   {
    "duration": 0,
    "start_time": "2022-11-01T21:55:21.200Z"
   },
   {
    "duration": 0,
    "start_time": "2022-11-01T21:55:21.201Z"
   },
   {
    "duration": 0,
    "start_time": "2022-11-01T21:55:21.202Z"
   },
   {
    "duration": 1113,
    "start_time": "2022-11-01T21:55:42.368Z"
   },
   {
    "duration": 41,
    "start_time": "2022-11-01T21:55:43.483Z"
   },
   {
    "duration": 10,
    "start_time": "2022-11-01T21:55:43.526Z"
   },
   {
    "duration": 6,
    "start_time": "2022-11-01T21:55:43.538Z"
   },
   {
    "duration": 17,
    "start_time": "2022-11-01T21:55:43.545Z"
   },
   {
    "duration": 4,
    "start_time": "2022-11-01T21:55:43.564Z"
   },
   {
    "duration": 7,
    "start_time": "2022-11-01T21:55:43.570Z"
   },
   {
    "duration": 15,
    "start_time": "2022-11-01T21:55:43.579Z"
   },
   {
    "duration": 4,
    "start_time": "2022-11-01T21:55:43.596Z"
   },
   {
    "duration": 7,
    "start_time": "2022-11-01T21:55:43.603Z"
   },
   {
    "duration": 12,
    "start_time": "2022-11-01T21:55:43.612Z"
   },
   {
    "duration": 5,
    "start_time": "2022-11-01T21:55:43.625Z"
   },
   {
    "duration": 7,
    "start_time": "2022-11-01T21:55:43.632Z"
   },
   {
    "duration": 74,
    "start_time": "2022-11-01T21:55:43.641Z"
   },
   {
    "duration": 376,
    "start_time": "2022-11-01T21:55:43.717Z"
   },
   {
    "duration": 20,
    "start_time": "2022-11-01T21:55:44.095Z"
   },
   {
    "duration": 6,
    "start_time": "2022-11-01T21:55:44.178Z"
   },
   {
    "duration": 143,
    "start_time": "2022-11-01T21:55:44.186Z"
   },
   {
    "duration": 55,
    "start_time": "2022-11-01T21:55:44.331Z"
   },
   {
    "duration": 226,
    "start_time": "2022-11-01T21:55:44.388Z"
   },
   {
    "duration": 178,
    "start_time": "2022-11-01T21:55:44.678Z"
   },
   {
    "duration": 19,
    "start_time": "2022-11-01T21:55:44.858Z"
   },
   {
    "duration": 810,
    "start_time": "2022-11-01T21:55:44.879Z"
   },
   {
    "duration": 202,
    "start_time": "2022-11-01T21:55:45.691Z"
   },
   {
    "duration": 756,
    "start_time": "2022-11-01T21:55:45.895Z"
   },
   {
    "duration": 682,
    "start_time": "2022-11-01T21:55:46.653Z"
   },
   {
    "duration": 1065,
    "start_time": "2022-11-01T21:56:19.958Z"
   },
   {
    "duration": 40,
    "start_time": "2022-11-01T21:56:21.026Z"
   },
   {
    "duration": 9,
    "start_time": "2022-11-01T21:56:21.067Z"
   },
   {
    "duration": 7,
    "start_time": "2022-11-01T21:56:21.077Z"
   },
   {
    "duration": 13,
    "start_time": "2022-11-01T21:56:21.086Z"
   },
   {
    "duration": 4,
    "start_time": "2022-11-01T21:56:21.100Z"
   },
   {
    "duration": 5,
    "start_time": "2022-11-01T21:56:21.106Z"
   },
   {
    "duration": 12,
    "start_time": "2022-11-01T21:56:21.113Z"
   },
   {
    "duration": 11,
    "start_time": "2022-11-01T21:56:21.126Z"
   },
   {
    "duration": 7,
    "start_time": "2022-11-01T21:56:21.139Z"
   },
   {
    "duration": 9,
    "start_time": "2022-11-01T21:56:21.148Z"
   },
   {
    "duration": 3,
    "start_time": "2022-11-01T21:56:21.177Z"
   },
   {
    "duration": 31,
    "start_time": "2022-11-01T21:56:21.181Z"
   },
   {
    "duration": 45,
    "start_time": "2022-11-01T21:56:21.214Z"
   },
   {
    "duration": 332,
    "start_time": "2022-11-01T21:56:21.276Z"
   },
   {
    "duration": 15,
    "start_time": "2022-11-01T21:56:21.609Z"
   },
   {
    "duration": 154,
    "start_time": "2022-11-01T21:56:21.625Z"
   },
   {
    "duration": 53,
    "start_time": "2022-11-01T21:56:21.781Z"
   },
   {
    "duration": 55,
    "start_time": "2022-11-01T21:56:21.835Z"
   },
   {
    "duration": 206,
    "start_time": "2022-11-01T21:56:21.893Z"
   },
   {
    "duration": 179,
    "start_time": "2022-11-01T21:56:22.176Z"
   },
   {
    "duration": 2,
    "start_time": "2022-11-01T21:56:22.357Z"
   },
   {
    "duration": 688,
    "start_time": "2022-11-01T21:56:22.360Z"
   },
   {
    "duration": 183,
    "start_time": "2022-11-01T21:56:23.050Z"
   },
   {
    "duration": 719,
    "start_time": "2022-11-01T21:56:23.234Z"
   },
   {
    "duration": 680,
    "start_time": "2022-11-01T21:56:23.955Z"
   },
   {
    "duration": 614581,
    "start_time": "2022-11-01T22:00:05.840Z"
   },
   {
    "duration": 1063,
    "start_time": "2022-11-01T22:32:42.419Z"
   },
   {
    "duration": 41,
    "start_time": "2022-11-01T22:32:43.484Z"
   },
   {
    "duration": 10,
    "start_time": "2022-11-01T22:32:43.527Z"
   },
   {
    "duration": 5,
    "start_time": "2022-11-01T22:32:43.540Z"
   },
   {
    "duration": 15,
    "start_time": "2022-11-01T22:32:43.547Z"
   },
   {
    "duration": 3,
    "start_time": "2022-11-01T22:32:43.564Z"
   },
   {
    "duration": 8,
    "start_time": "2022-11-01T22:32:43.569Z"
   },
   {
    "duration": 11,
    "start_time": "2022-11-01T22:32:43.578Z"
   },
   {
    "duration": 4,
    "start_time": "2022-11-01T22:32:43.591Z"
   },
   {
    "duration": 6,
    "start_time": "2022-11-01T22:32:43.598Z"
   },
   {
    "duration": 10,
    "start_time": "2022-11-01T22:32:43.606Z"
   },
   {
    "duration": 3,
    "start_time": "2022-11-01T22:32:43.618Z"
   },
   {
    "duration": 58,
    "start_time": "2022-11-01T22:32:43.623Z"
   },
   {
    "duration": 54,
    "start_time": "2022-11-01T22:32:43.682Z"
   },
   {
    "duration": 402,
    "start_time": "2022-11-01T22:32:43.738Z"
   },
   {
    "duration": 135,
    "start_time": "2022-11-01T22:32:44.142Z"
   },
   {
    "duration": 5,
    "start_time": "2022-11-01T22:32:44.279Z"
   },
   {
    "duration": 103,
    "start_time": "2022-11-01T22:32:44.286Z"
   },
   {
    "duration": 96,
    "start_time": "2022-11-01T22:32:44.391Z"
   },
   {
    "duration": 123,
    "start_time": "2022-11-01T22:32:44.492Z"
   },
   {
    "duration": 175,
    "start_time": "2022-11-01T22:32:44.679Z"
   },
   {
    "duration": 1076,
    "start_time": "2022-11-01T22:44:41.487Z"
   },
   {
    "duration": 48,
    "start_time": "2022-11-01T22:44:42.566Z"
   },
   {
    "duration": 10,
    "start_time": "2022-11-01T22:44:42.616Z"
   },
   {
    "duration": 5,
    "start_time": "2022-11-01T22:44:42.629Z"
   },
   {
    "duration": 15,
    "start_time": "2022-11-01T22:44:42.636Z"
   },
   {
    "duration": 4,
    "start_time": "2022-11-01T22:44:42.652Z"
   },
   {
    "duration": 6,
    "start_time": "2022-11-01T22:44:42.658Z"
   },
   {
    "duration": 16,
    "start_time": "2022-11-01T22:44:42.665Z"
   },
   {
    "duration": 6,
    "start_time": "2022-11-01T22:44:42.683Z"
   },
   {
    "duration": 18,
    "start_time": "2022-11-01T22:44:42.692Z"
   },
   {
    "duration": 11,
    "start_time": "2022-11-01T22:44:42.712Z"
   },
   {
    "duration": 3,
    "start_time": "2022-11-01T22:44:42.725Z"
   },
   {
    "duration": 51,
    "start_time": "2022-11-01T22:44:42.729Z"
   },
   {
    "duration": 50,
    "start_time": "2022-11-01T22:44:42.782Z"
   },
   {
    "duration": 448,
    "start_time": "2022-11-01T22:44:42.833Z"
   },
   {
    "duration": 19,
    "start_time": "2022-11-01T22:44:43.283Z"
   },
   {
    "duration": 76,
    "start_time": "2022-11-01T22:44:43.304Z"
   },
   {
    "duration": 154,
    "start_time": "2022-11-01T22:44:43.381Z"
   },
   {
    "duration": 50,
    "start_time": "2022-11-01T22:44:43.536Z"
   },
   {
    "duration": 216,
    "start_time": "2022-11-01T22:44:43.588Z"
   },
   {
    "duration": 185,
    "start_time": "2022-11-01T22:44:43.877Z"
   },
   {
    "duration": 78608,
    "start_time": "2022-11-01T22:44:44.064Z"
   },
   {
    "duration": 735,
    "start_time": "2022-11-01T22:46:02.674Z"
   },
   {
    "duration": 735,
    "start_time": "2022-11-01T22:46:03.410Z"
   },
   {
    "duration": 729,
    "start_time": "2022-11-01T22:46:04.147Z"
   },
   {
    "duration": 1040,
    "start_time": "2022-11-13T12:56:05.313Z"
   },
   {
    "duration": 190,
    "start_time": "2022-11-13T12:56:06.355Z"
   },
   {
    "duration": 14,
    "start_time": "2022-11-13T12:56:06.547Z"
   },
   {
    "duration": 4,
    "start_time": "2022-11-13T12:56:06.564Z"
   },
   {
    "duration": 26,
    "start_time": "2022-11-13T12:56:06.570Z"
   },
   {
    "duration": 3,
    "start_time": "2022-11-13T12:56:06.603Z"
   },
   {
    "duration": 18,
    "start_time": "2022-11-13T12:56:06.608Z"
   },
   {
    "duration": 19,
    "start_time": "2022-11-13T12:56:06.628Z"
   },
   {
    "duration": 6,
    "start_time": "2022-11-13T12:56:06.648Z"
   },
   {
    "duration": 18,
    "start_time": "2022-11-13T12:56:06.656Z"
   },
   {
    "duration": 19,
    "start_time": "2022-11-13T12:56:06.675Z"
   },
   {
    "duration": 6,
    "start_time": "2022-11-13T12:56:06.696Z"
   },
   {
    "duration": 31,
    "start_time": "2022-11-13T12:56:06.703Z"
   },
   {
    "duration": 51,
    "start_time": "2022-11-13T12:56:06.735Z"
   },
   {
    "duration": 605,
    "start_time": "2022-11-13T12:56:06.788Z"
   },
   {
    "duration": 65,
    "start_time": "2022-11-13T12:56:07.395Z"
   },
   {
    "duration": 14,
    "start_time": "2022-11-13T12:56:07.464Z"
   },
   {
    "duration": 52,
    "start_time": "2022-11-13T12:56:07.560Z"
   },
   {
    "duration": 54,
    "start_time": "2022-11-13T12:56:07.614Z"
   },
   {
    "duration": 215,
    "start_time": "2022-11-13T12:56:07.670Z"
   },
   {
    "duration": 261,
    "start_time": "2022-11-13T12:56:07.888Z"
   },
   {
    "duration": 83645,
    "start_time": "2022-11-13T12:56:08.151Z"
   },
   {
    "duration": 761,
    "start_time": "2022-11-13T12:57:31.798Z"
   },
   {
    "duration": 723,
    "start_time": "2022-11-13T12:57:32.560Z"
   },
   {
    "duration": 681,
    "start_time": "2022-11-13T12:57:33.284Z"
   },
   {
    "duration": 108,
    "start_time": "2022-11-13T13:02:51.536Z"
   },
   {
    "duration": 4,
    "start_time": "2022-11-13T13:03:37.545Z"
   },
   {
    "duration": 4,
    "start_time": "2022-11-13T13:03:53.809Z"
   },
   {
    "duration": 12,
    "start_time": "2022-11-13T13:04:14.164Z"
   },
   {
    "duration": 11,
    "start_time": "2022-11-13T13:04:55.529Z"
   },
   {
    "duration": 9,
    "start_time": "2022-11-13T13:05:03.721Z"
   },
   {
    "duration": 10,
    "start_time": "2022-11-13T13:05:07.645Z"
   },
   {
    "duration": 14,
    "start_time": "2022-11-13T13:05:16.929Z"
   },
   {
    "duration": 8,
    "start_time": "2022-11-13T13:05:28.585Z"
   },
   {
    "duration": 9,
    "start_time": "2022-11-13T13:06:18.643Z"
   },
   {
    "duration": 6,
    "start_time": "2022-11-13T13:06:34.788Z"
   },
   {
    "duration": 5,
    "start_time": "2022-11-13T13:06:58.001Z"
   },
   {
    "duration": 5,
    "start_time": "2022-11-13T13:07:17.853Z"
   },
   {
    "duration": 12,
    "start_time": "2022-11-13T13:07:28.925Z"
   },
   {
    "duration": 6,
    "start_time": "2022-11-13T13:08:12.568Z"
   },
   {
    "duration": 6,
    "start_time": "2022-11-13T13:08:26.651Z"
   },
   {
    "duration": 17,
    "start_time": "2022-11-13T14:22:31.884Z"
   },
   {
    "duration": 11,
    "start_time": "2022-11-13T14:22:36.364Z"
   },
   {
    "duration": 12,
    "start_time": "2022-11-13T14:22:45.370Z"
   },
   {
    "duration": 1099,
    "start_time": "2022-11-13T14:23:00.735Z"
   },
   {
    "duration": 98,
    "start_time": "2022-11-13T14:23:01.836Z"
   },
   {
    "duration": 9,
    "start_time": "2022-11-13T14:23:01.936Z"
   },
   {
    "duration": 9,
    "start_time": "2022-11-13T14:23:01.947Z"
   },
   {
    "duration": 31,
    "start_time": "2022-11-13T14:23:01.958Z"
   },
   {
    "duration": 5,
    "start_time": "2022-11-13T14:23:01.991Z"
   },
   {
    "duration": 17,
    "start_time": "2022-11-13T14:23:01.997Z"
   },
   {
    "duration": 18,
    "start_time": "2022-11-13T14:23:02.016Z"
   },
   {
    "duration": 5,
    "start_time": "2022-11-13T14:23:02.035Z"
   },
   {
    "duration": 20,
    "start_time": "2022-11-13T14:23:02.042Z"
   },
   {
    "duration": 11,
    "start_time": "2022-11-13T14:23:02.064Z"
   },
   {
    "duration": 9,
    "start_time": "2022-11-13T14:23:02.077Z"
   },
   {
    "duration": 107,
    "start_time": "2022-11-13T14:23:02.087Z"
   },
   {
    "duration": 0,
    "start_time": "2022-11-13T14:23:02.196Z"
   },
   {
    "duration": 0,
    "start_time": "2022-11-13T14:23:02.197Z"
   },
   {
    "duration": 0,
    "start_time": "2022-11-13T14:23:02.198Z"
   },
   {
    "duration": 0,
    "start_time": "2022-11-13T14:23:02.200Z"
   },
   {
    "duration": 0,
    "start_time": "2022-11-13T14:23:02.201Z"
   },
   {
    "duration": 0,
    "start_time": "2022-11-13T14:23:02.203Z"
   },
   {
    "duration": 0,
    "start_time": "2022-11-13T14:23:02.204Z"
   },
   {
    "duration": 0,
    "start_time": "2022-11-13T14:23:02.205Z"
   },
   {
    "duration": 0,
    "start_time": "2022-11-13T14:23:02.206Z"
   },
   {
    "duration": 0,
    "start_time": "2022-11-13T14:23:02.207Z"
   },
   {
    "duration": 0,
    "start_time": "2022-11-13T14:23:02.209Z"
   },
   {
    "duration": 0,
    "start_time": "2022-11-13T14:23:02.210Z"
   },
   {
    "duration": 15,
    "start_time": "2022-11-13T14:29:00.906Z"
   },
   {
    "duration": 220,
    "start_time": "2022-11-13T14:31:38.659Z"
   },
   {
    "duration": 175,
    "start_time": "2022-11-13T14:31:58.417Z"
   },
   {
    "duration": 25,
    "start_time": "2022-11-13T14:32:11.000Z"
   },
   {
    "duration": 21,
    "start_time": "2022-11-13T14:32:21.999Z"
   },
   {
    "duration": 4,
    "start_time": "2022-11-13T14:32:52.646Z"
   },
   {
    "duration": 13,
    "start_time": "2022-11-13T14:33:02.135Z"
   },
   {
    "duration": 202,
    "start_time": "2022-11-13T14:33:23.224Z"
   },
   {
    "duration": 3,
    "start_time": "2022-11-13T14:34:23.609Z"
   },
   {
    "duration": 37,
    "start_time": "2022-11-13T14:34:26.141Z"
   },
   {
    "duration": 210,
    "start_time": "2022-11-13T14:35:28.577Z"
   },
   {
    "duration": 46,
    "start_time": "2022-11-13T14:35:38.178Z"
   },
   {
    "duration": 22,
    "start_time": "2022-11-13T14:35:41.597Z"
   },
   {
    "duration": 442,
    "start_time": "2022-11-13T14:36:44.574Z"
   },
   {
    "duration": 9,
    "start_time": "2022-11-13T14:37:55.320Z"
   },
   {
    "duration": 1234,
    "start_time": "2022-11-13T14:39:03.959Z"
   },
   {
    "duration": 51,
    "start_time": "2022-11-13T14:39:05.195Z"
   },
   {
    "duration": 11,
    "start_time": "2022-11-13T14:39:05.248Z"
   },
   {
    "duration": 3,
    "start_time": "2022-11-13T14:39:05.261Z"
   },
   {
    "duration": 23,
    "start_time": "2022-11-13T14:39:05.265Z"
   },
   {
    "duration": 5,
    "start_time": "2022-11-13T14:39:05.289Z"
   },
   {
    "duration": 6,
    "start_time": "2022-11-13T14:39:05.296Z"
   },
   {
    "duration": 16,
    "start_time": "2022-11-13T14:39:05.303Z"
   },
   {
    "duration": 6,
    "start_time": "2022-11-13T14:39:05.321Z"
   },
   {
    "duration": 41,
    "start_time": "2022-11-13T14:39:05.330Z"
   },
   {
    "duration": 6,
    "start_time": "2022-11-13T14:39:05.373Z"
   },
   {
    "duration": 13,
    "start_time": "2022-11-13T14:39:05.381Z"
   },
   {
    "duration": 13,
    "start_time": "2022-11-13T14:39:05.396Z"
   },
   {
    "duration": 3,
    "start_time": "2022-11-13T14:39:05.412Z"
   },
   {
    "duration": 59,
    "start_time": "2022-11-13T14:39:05.416Z"
   },
   {
    "duration": 38,
    "start_time": "2022-11-13T14:39:05.476Z"
   },
   {
    "duration": 377,
    "start_time": "2022-11-13T14:39:05.516Z"
   },
   {
    "duration": 166,
    "start_time": "2022-11-13T14:39:05.894Z"
   },
   {
    "duration": 6,
    "start_time": "2022-11-13T14:39:06.062Z"
   },
   {
    "duration": 42,
    "start_time": "2022-11-13T14:39:06.069Z"
   },
   {
    "duration": 71,
    "start_time": "2022-11-13T14:39:06.113Z"
   },
   {
    "duration": 272,
    "start_time": "2022-11-13T14:39:06.186Z"
   },
   {
    "duration": 162,
    "start_time": "2022-11-13T14:39:06.465Z"
   },
   {
    "duration": 58898,
    "start_time": "2022-11-13T14:39:06.628Z"
   },
   {
    "duration": 492,
    "start_time": "2022-11-13T14:40:05.527Z"
   },
   {
    "duration": 497,
    "start_time": "2022-11-13T14:40:06.021Z"
   },
   {
    "duration": 511,
    "start_time": "2022-11-13T14:40:06.519Z"
   },
   {
    "duration": 5,
    "start_time": "2022-11-13T20:15:48.505Z"
   },
   {
    "duration": 111,
    "start_time": "2022-11-13T20:15:58.454Z"
   },
   {
    "duration": 5,
    "start_time": "2022-11-13T20:16:00.368Z"
   },
   {
    "duration": 37,
    "start_time": "2022-11-13T20:16:05.502Z"
   },
   {
    "duration": 5,
    "start_time": "2022-11-13T20:16:07.693Z"
   },
   {
    "duration": 46,
    "start_time": "2022-11-13T20:16:13.370Z"
   },
   {
    "duration": 5,
    "start_time": "2022-11-13T20:16:14.855Z"
   },
   {
    "duration": 37,
    "start_time": "2022-11-13T20:16:20.730Z"
   },
   {
    "duration": 5,
    "start_time": "2022-11-13T20:16:22.861Z"
   },
   {
    "duration": 27,
    "start_time": "2022-11-13T20:16:27.732Z"
   },
   {
    "duration": 4,
    "start_time": "2022-11-13T20:16:29.221Z"
   },
   {
    "duration": 26,
    "start_time": "2022-11-13T20:16:33.365Z"
   },
   {
    "duration": 5,
    "start_time": "2022-11-13T20:16:35.702Z"
   },
   {
    "duration": 36,
    "start_time": "2022-11-13T20:16:40.335Z"
   },
   {
    "duration": 6,
    "start_time": "2022-11-13T20:16:42.588Z"
   },
   {
    "duration": 39,
    "start_time": "2022-11-13T20:16:48.175Z"
   },
   {
    "duration": 5,
    "start_time": "2022-11-13T20:16:49.719Z"
   },
   {
    "duration": 42,
    "start_time": "2022-11-13T20:16:54.076Z"
   },
   {
    "duration": 5,
    "start_time": "2022-11-13T20:16:55.419Z"
   },
   {
    "duration": 43,
    "start_time": "2022-11-13T20:16:59.387Z"
   },
   {
    "duration": 6,
    "start_time": "2022-11-13T20:17:00.977Z"
   },
   {
    "duration": 52,
    "start_time": "2022-11-13T20:17:04.483Z"
   },
   {
    "duration": 5,
    "start_time": "2022-11-13T20:17:07.061Z"
   },
   {
    "duration": 116,
    "start_time": "2022-11-13T20:17:10.543Z"
   },
   {
    "duration": 5,
    "start_time": "2022-11-13T20:17:11.965Z"
   },
   {
    "duration": 38,
    "start_time": "2022-11-13T20:17:18.391Z"
   },
   {
    "duration": 5,
    "start_time": "2022-11-13T20:17:19.808Z"
   },
   {
    "duration": 68,
    "start_time": "2022-11-13T20:17:24.302Z"
   },
   {
    "duration": 6,
    "start_time": "2022-11-13T20:17:26.403Z"
   },
   {
    "duration": 1019,
    "start_time": "2022-11-13T20:17:39.687Z"
   },
   {
    "duration": 165,
    "start_time": "2022-11-13T20:17:40.708Z"
   },
   {
    "duration": 8,
    "start_time": "2022-11-13T20:17:40.875Z"
   },
   {
    "duration": 5,
    "start_time": "2022-11-13T20:17:40.885Z"
   },
   {
    "duration": 13,
    "start_time": "2022-11-13T20:17:40.891Z"
   },
   {
    "duration": 4,
    "start_time": "2022-11-13T20:17:40.906Z"
   },
   {
    "duration": 4,
    "start_time": "2022-11-13T20:17:40.911Z"
   },
   {
    "duration": 15,
    "start_time": "2022-11-13T20:17:40.917Z"
   },
   {
    "duration": 5,
    "start_time": "2022-11-13T20:17:40.933Z"
   },
   {
    "duration": 21,
    "start_time": "2022-11-13T20:17:40.940Z"
   },
   {
    "duration": 4,
    "start_time": "2022-11-13T20:17:40.963Z"
   },
   {
    "duration": 14,
    "start_time": "2022-11-13T20:17:40.969Z"
   },
   {
    "duration": 9,
    "start_time": "2022-11-13T20:17:40.984Z"
   },
   {
    "duration": 2,
    "start_time": "2022-11-13T20:17:40.995Z"
   },
   {
    "duration": 31,
    "start_time": "2022-11-13T20:17:40.999Z"
   },
   {
    "duration": 56,
    "start_time": "2022-11-13T20:17:41.031Z"
   },
   {
    "duration": 332,
    "start_time": "2022-11-13T20:17:41.089Z"
   },
   {
    "duration": 39,
    "start_time": "2022-11-13T20:17:41.422Z"
   },
   {
    "duration": 98,
    "start_time": "2022-11-13T20:17:41.462Z"
   },
   {
    "duration": 99,
    "start_time": "2022-11-13T20:17:41.562Z"
   },
   {
    "duration": 97,
    "start_time": "2022-11-13T20:17:41.663Z"
   },
   {
    "duration": 196,
    "start_time": "2022-11-13T20:17:41.762Z"
   },
   {
    "duration": 97,
    "start_time": "2022-11-13T20:17:41.961Z"
   },
   {
    "duration": 73,
    "start_time": "2022-11-13T20:17:42.060Z"
   },
   {
    "duration": 54141,
    "start_time": "2022-11-13T20:17:42.135Z"
   },
   {
    "duration": 470,
    "start_time": "2022-11-13T20:18:36.278Z"
   },
   {
    "duration": 462,
    "start_time": "2022-11-13T20:18:36.750Z"
   },
   {
    "duration": 464,
    "start_time": "2022-11-13T20:18:37.215Z"
   },
   {
    "duration": 66,
    "start_time": "2022-11-13T20:18:37.680Z"
   },
   {
    "duration": 51,
    "start_time": "2022-11-13T20:18:49.927Z"
   },
   {
    "duration": 5,
    "start_time": "2022-11-13T20:19:06.666Z"
   },
   {
    "duration": 474,
    "start_time": "2022-11-13T20:20:31.164Z"
   },
   {
    "duration": 435,
    "start_time": "2022-11-13T20:20:46.135Z"
   },
   {
    "duration": 836,
    "start_time": "2022-11-13T20:22:03.491Z"
   },
   {
    "duration": 5,
    "start_time": "2022-11-13T20:22:28.438Z"
   },
   {
    "duration": 25,
    "start_time": "2022-11-13T20:22:37.544Z"
   },
   {
    "duration": 887,
    "start_time": "2022-11-13T20:25:00.439Z"
   },
   {
    "duration": 670,
    "start_time": "2022-11-13T20:25:06.689Z"
   },
   {
    "duration": 691,
    "start_time": "2022-11-13T20:25:11.816Z"
   },
   {
    "duration": 539,
    "start_time": "2022-11-13T20:25:16.080Z"
   },
   {
    "duration": 718,
    "start_time": "2022-11-13T20:25:20.383Z"
   },
   {
    "duration": 711,
    "start_time": "2022-11-13T20:25:25.308Z"
   },
   {
    "duration": 700,
    "start_time": "2022-11-13T20:25:34.737Z"
   },
   {
    "duration": 695,
    "start_time": "2022-11-13T20:25:39.416Z"
   },
   {
    "duration": 725,
    "start_time": "2022-11-13T20:25:43.414Z"
   },
   {
    "duration": 718,
    "start_time": "2022-11-13T20:25:47.821Z"
   },
   {
    "duration": 737,
    "start_time": "2022-11-13T20:25:53.884Z"
   },
   {
    "duration": 729,
    "start_time": "2022-11-13T20:25:57.692Z"
   },
   {
    "duration": 724,
    "start_time": "2022-11-13T20:26:01.187Z"
   },
   {
    "duration": 6156,
    "start_time": "2022-11-13T20:26:37.431Z"
   },
   {
    "duration": 6566,
    "start_time": "2022-11-13T20:26:49.990Z"
   },
   {
    "duration": 6304,
    "start_time": "2022-11-13T20:27:01.983Z"
   },
   {
    "duration": 767,
    "start_time": "2022-11-13T20:28:01.517Z"
   },
   {
    "duration": 754,
    "start_time": "2022-11-13T20:28:07.972Z"
   },
   {
    "duration": 797,
    "start_time": "2022-11-13T20:28:11.848Z"
   },
   {
    "duration": 818,
    "start_time": "2022-11-13T20:28:16.494Z"
   },
   {
    "duration": 783,
    "start_time": "2022-11-13T20:28:20.977Z"
   },
   {
    "duration": 845,
    "start_time": "2022-11-13T20:28:24.500Z"
   },
   {
    "duration": 793,
    "start_time": "2022-11-13T20:28:27.709Z"
   },
   {
    "duration": 769,
    "start_time": "2022-11-13T20:28:31.085Z"
   },
   {
    "duration": 821,
    "start_time": "2022-11-13T20:28:37.298Z"
   },
   {
    "duration": 824,
    "start_time": "2022-11-13T20:28:42.424Z"
   },
   {
    "duration": 186,
    "start_time": "2022-11-13T20:29:11.667Z"
   },
   {
    "duration": 39170,
    "start_time": "2022-11-13T20:29:16.975Z"
   },
   {
    "duration": 45,
    "start_time": "2022-11-13T20:29:56.146Z"
   },
   {
    "duration": 212,
    "start_time": "2022-11-13T20:30:03.169Z"
   },
   {
    "duration": 319,
    "start_time": "2022-11-13T20:30:07.648Z"
   },
   {
    "duration": 358,
    "start_time": "2022-11-13T20:30:19.457Z"
   },
   {
    "duration": 351,
    "start_time": "2022-11-13T20:30:23.951Z"
   },
   {
    "duration": 358,
    "start_time": "2022-11-13T20:30:34.078Z"
   },
   {
    "duration": 332,
    "start_time": "2022-11-13T20:30:41.190Z"
   },
   {
    "duration": 386,
    "start_time": "2022-11-13T20:30:44.608Z"
   },
   {
    "duration": 396,
    "start_time": "2022-11-13T20:30:48.593Z"
   },
   {
    "duration": 391,
    "start_time": "2022-11-13T20:30:54.150Z"
   },
   {
    "duration": 367,
    "start_time": "2022-11-13T20:30:56.923Z"
   },
   {
    "duration": 384,
    "start_time": "2022-11-13T20:31:00.175Z"
   },
   {
    "duration": 370,
    "start_time": "2022-11-13T20:31:06.530Z"
   },
   {
    "duration": 388,
    "start_time": "2022-11-13T20:31:09.392Z"
   },
   {
    "duration": 254,
    "start_time": "2022-11-13T20:31:13.507Z"
   },
   {
    "duration": 266,
    "start_time": "2022-11-13T20:31:18.095Z"
   },
   {
    "duration": 171,
    "start_time": "2022-11-13T20:31:22.846Z"
   },
   {
    "duration": 135,
    "start_time": "2022-11-13T20:31:26.268Z"
   },
   {
    "duration": 96,
    "start_time": "2022-11-13T20:31:30.102Z"
   },
   {
    "duration": 167,
    "start_time": "2022-11-13T20:31:33.179Z"
   },
   {
    "duration": 229,
    "start_time": "2022-11-13T20:31:35.970Z"
   },
   {
    "duration": 233,
    "start_time": "2022-11-13T20:31:38.646Z"
   },
   {
    "duration": 226,
    "start_time": "2022-11-13T20:31:42.037Z"
   },
   {
    "duration": 225,
    "start_time": "2022-11-13T20:31:46.187Z"
   },
   {
    "duration": 250,
    "start_time": "2022-11-13T20:32:03.351Z"
   },
   {
    "duration": 244,
    "start_time": "2022-11-13T20:32:08.033Z"
   },
   {
    "duration": 276,
    "start_time": "2022-11-13T20:32:10.806Z"
   },
   {
    "duration": 270,
    "start_time": "2022-11-13T20:32:13.849Z"
   },
   {
    "duration": 302,
    "start_time": "2022-11-13T20:32:16.878Z"
   },
   {
    "duration": 309,
    "start_time": "2022-11-13T20:32:19.056Z"
   },
   {
    "duration": 40,
    "start_time": "2022-11-13T20:32:23.428Z"
   },
   {
    "duration": 303,
    "start_time": "2022-11-13T20:32:27.565Z"
   },
   {
    "duration": 303,
    "start_time": "2022-11-13T20:32:31.804Z"
   },
   {
    "duration": 350,
    "start_time": "2022-11-13T20:32:34.566Z"
   },
   {
    "duration": 315,
    "start_time": "2022-11-13T20:32:37.365Z"
   },
   {
    "duration": 456,
    "start_time": "2022-11-13T20:32:43.731Z"
   },
   {
    "duration": 536,
    "start_time": "2022-11-13T20:32:48.013Z"
   },
   {
    "duration": 492,
    "start_time": "2022-11-13T20:32:51.839Z"
   },
   {
    "duration": 555,
    "start_time": "2022-11-13T20:32:58.039Z"
   },
   {
    "duration": 638,
    "start_time": "2022-11-13T20:33:03.182Z"
   },
   {
    "duration": 333,
    "start_time": "2022-11-13T20:33:10.018Z"
   },
   {
    "duration": 361,
    "start_time": "2022-11-13T20:33:13.711Z"
   },
   {
    "duration": 332,
    "start_time": "2022-11-13T20:34:02.032Z"
   },
   {
    "duration": 46,
    "start_time": "2022-11-14T18:34:26.862Z"
   },
   {
    "duration": 984,
    "start_time": "2022-11-14T18:34:37.101Z"
   },
   {
    "duration": 76,
    "start_time": "2022-11-14T18:34:38.086Z"
   },
   {
    "duration": 9,
    "start_time": "2022-11-14T18:34:38.163Z"
   },
   {
    "duration": 3,
    "start_time": "2022-11-14T18:34:38.174Z"
   },
   {
    "duration": 13,
    "start_time": "2022-11-14T18:34:38.179Z"
   },
   {
    "duration": 4,
    "start_time": "2022-11-14T18:34:38.194Z"
   },
   {
    "duration": 5,
    "start_time": "2022-11-14T18:34:38.200Z"
   },
   {
    "duration": 21,
    "start_time": "2022-11-14T18:34:38.206Z"
   },
   {
    "duration": 4,
    "start_time": "2022-11-14T18:34:38.228Z"
   },
   {
    "duration": 24,
    "start_time": "2022-11-14T18:34:38.234Z"
   },
   {
    "duration": 4,
    "start_time": "2022-11-14T18:34:38.259Z"
   },
   {
    "duration": 7,
    "start_time": "2022-11-14T18:34:38.265Z"
   },
   {
    "duration": 8,
    "start_time": "2022-11-14T18:34:38.274Z"
   },
   {
    "duration": 2,
    "start_time": "2022-11-14T18:34:38.283Z"
   },
   {
    "duration": 28,
    "start_time": "2022-11-14T18:34:38.287Z"
   },
   {
    "duration": 56,
    "start_time": "2022-11-14T18:34:38.316Z"
   },
   {
    "duration": 480,
    "start_time": "2022-11-14T18:34:38.374Z"
   },
   {
    "duration": 96,
    "start_time": "2022-11-14T18:34:38.856Z"
   },
   {
    "duration": 8,
    "start_time": "2022-11-14T18:34:38.954Z"
   },
   {
    "duration": 132,
    "start_time": "2022-11-14T18:34:38.964Z"
   },
   {
    "duration": 62,
    "start_time": "2022-11-14T18:34:39.097Z"
   },
   {
    "duration": 123,
    "start_time": "2022-11-14T18:34:39.161Z"
   },
   {
    "duration": 8,
    "start_time": "2022-11-14T18:34:39.353Z"
   },
   {
    "duration": 139,
    "start_time": "2022-11-14T18:34:39.362Z"
   },
   {
    "duration": 5,
    "start_time": "2022-11-14T18:34:39.502Z"
   },
   {
    "duration": 37305,
    "start_time": "2022-11-14T18:34:39.508Z"
   },
   {
    "duration": 331,
    "start_time": "2022-11-14T18:35:16.815Z"
   },
   {
    "duration": 318,
    "start_time": "2022-11-14T18:35:17.151Z"
   },
   {
    "duration": 458,
    "start_time": "2022-11-14T18:35:17.471Z"
   },
   {
    "duration": 24,
    "start_time": "2022-11-14T18:36:45.510Z"
   },
   {
    "duration": 21,
    "start_time": "2022-11-14T18:36:55.914Z"
   },
   {
    "duration": 19,
    "start_time": "2022-11-14T18:37:03.728Z"
   },
   {
    "duration": 12,
    "start_time": "2022-11-14T18:46:33.990Z"
   },
   {
    "duration": 37,
    "start_time": "2022-11-14T18:50:08.648Z"
   },
   {
    "duration": 95,
    "start_time": "2022-11-14T18:54:18.269Z"
   },
   {
    "duration": 99,
    "start_time": "2022-11-14T18:54:22.380Z"
   },
   {
    "duration": 77,
    "start_time": "2022-11-14T18:54:48.513Z"
   },
   {
    "duration": 65,
    "start_time": "2022-11-14T18:55:39.435Z"
   },
   {
    "duration": 154,
    "start_time": "2022-11-14T19:04:42.783Z"
   },
   {
    "duration": 341,
    "start_time": "2022-11-14T19:04:58.666Z"
   },
   {
    "duration": 350,
    "start_time": "2022-11-14T19:05:04.174Z"
   },
   {
    "duration": 499,
    "start_time": "2022-11-14T19:05:09.367Z"
   },
   {
    "duration": 777,
    "start_time": "2022-11-14T19:05:12.778Z"
   },
   {
    "duration": 763,
    "start_time": "2022-11-14T19:05:18.404Z"
   },
   {
    "duration": 773,
    "start_time": "2022-11-14T19:05:21.567Z"
   },
   {
    "duration": 776,
    "start_time": "2022-11-14T19:05:25.353Z"
   },
   {
    "duration": 767,
    "start_time": "2022-11-14T19:05:28.225Z"
   },
   {
    "duration": 346,
    "start_time": "2022-11-14T19:05:34.225Z"
   },
   {
    "duration": 363,
    "start_time": "2022-11-14T19:05:38.949Z"
   },
   {
    "duration": 96,
    "start_time": "2022-11-14T19:07:38.655Z"
   },
   {
    "duration": 40180,
    "start_time": "2022-11-14T19:07:48.370Z"
   },
   {
    "duration": 39255,
    "start_time": "2022-11-14T19:10:09.516Z"
   },
   {
    "duration": 4,
    "start_time": "2022-11-14T19:13:44.584Z"
   },
   {
    "duration": 40,
    "start_time": "2022-11-14T19:14:12.404Z"
   },
   {
    "duration": 95,
    "start_time": "2022-11-14T19:14:42.512Z"
   },
   {
    "duration": 5,
    "start_time": "2022-11-14T19:14:46.866Z"
   },
   {
    "duration": 37,
    "start_time": "2022-11-14T19:16:35.805Z"
   },
   {
    "duration": 90,
    "start_time": "2022-11-14T19:17:07.268Z"
   },
   {
    "duration": 60,
    "start_time": "2022-11-14T19:18:01.526Z"
   },
   {
    "duration": 91,
    "start_time": "2022-11-14T19:19:19.469Z"
   },
   {
    "duration": 51,
    "start_time": "2022-11-14T19:21:25.864Z"
   },
   {
    "duration": 49,
    "start_time": "2022-11-14T19:21:57.280Z"
   },
   {
    "duration": 985,
    "start_time": "2022-11-14T19:22:07.914Z"
   },
   {
    "duration": 35,
    "start_time": "2022-11-14T19:22:08.901Z"
   },
   {
    "duration": 9,
    "start_time": "2022-11-14T19:22:08.937Z"
   },
   {
    "duration": 3,
    "start_time": "2022-11-14T19:22:08.947Z"
   },
   {
    "duration": 23,
    "start_time": "2022-11-14T19:22:08.953Z"
   },
   {
    "duration": 9,
    "start_time": "2022-11-14T19:22:08.977Z"
   },
   {
    "duration": 11,
    "start_time": "2022-11-14T19:22:08.988Z"
   },
   {
    "duration": 15,
    "start_time": "2022-11-14T19:22:09.000Z"
   },
   {
    "duration": 4,
    "start_time": "2022-11-14T19:22:09.017Z"
   },
   {
    "duration": 11,
    "start_time": "2022-11-14T19:22:09.023Z"
   },
   {
    "duration": 4,
    "start_time": "2022-11-14T19:22:09.035Z"
   },
   {
    "duration": 6,
    "start_time": "2022-11-14T19:22:09.040Z"
   },
   {
    "duration": 11,
    "start_time": "2022-11-14T19:22:09.048Z"
   },
   {
    "duration": 14,
    "start_time": "2022-11-14T19:22:09.060Z"
   },
   {
    "duration": 28,
    "start_time": "2022-11-14T19:22:09.075Z"
   },
   {
    "duration": 35,
    "start_time": "2022-11-14T19:22:09.104Z"
   },
   {
    "duration": 354,
    "start_time": "2022-11-14T19:22:09.141Z"
   },
   {
    "duration": 68,
    "start_time": "2022-11-14T19:22:09.497Z"
   },
   {
    "duration": 102,
    "start_time": "2022-11-14T19:22:09.567Z"
   },
   {
    "duration": 199,
    "start_time": "2022-11-14T19:22:09.670Z"
   },
   {
    "duration": 87,
    "start_time": "2022-11-14T19:22:09.871Z"
   },
   {
    "duration": 11,
    "start_time": "2022-11-14T19:22:09.964Z"
   },
   {
    "duration": 142,
    "start_time": "2022-11-14T19:22:09.977Z"
   },
   {
    "duration": 39529,
    "start_time": "2022-11-14T19:22:10.121Z"
   },
   {
    "duration": 363,
    "start_time": "2022-11-14T19:22:49.652Z"
   },
   {
    "duration": 357,
    "start_time": "2022-11-14T19:22:50.016Z"
   },
   {
    "duration": 345,
    "start_time": "2022-11-14T19:22:50.375Z"
   },
   {
    "duration": 438,
    "start_time": "2022-11-14T19:22:50.723Z"
   },
   {
    "duration": 425,
    "start_time": "2022-11-14T19:30:50.310Z"
   },
   {
    "duration": 414,
    "start_time": "2022-11-14T19:31:28.789Z"
   },
   {
    "duration": 407,
    "start_time": "2022-11-14T19:31:38.438Z"
   },
   {
    "duration": 420,
    "start_time": "2022-11-14T19:34:07.114Z"
   },
   {
    "duration": 50,
    "start_time": "2022-11-14T19:36:07.138Z"
   },
   {
    "duration": 36626,
    "start_time": "2022-11-14T20:34:33.690Z"
   },
   {
    "duration": 254,
    "start_time": "2022-11-14T21:06:27.660Z"
   },
   {
    "duration": 254,
    "start_time": "2022-11-14T21:06:56.388Z"
   },
   {
    "duration": 274,
    "start_time": "2022-11-14T21:07:02.692Z"
   },
   {
    "duration": 250,
    "start_time": "2022-11-14T21:07:06.809Z"
   },
   {
    "duration": 306,
    "start_time": "2022-11-14T21:12:35.076Z"
   },
   {
    "duration": 413,
    "start_time": "2022-11-14T21:12:43.839Z"
   },
   {
    "duration": 412,
    "start_time": "2022-11-14T21:44:00.295Z"
   },
   {
    "duration": 1007,
    "start_time": "2022-11-14T21:44:36.690Z"
   },
   {
    "duration": 34,
    "start_time": "2022-11-14T21:44:37.699Z"
   },
   {
    "duration": 9,
    "start_time": "2022-11-14T21:44:37.735Z"
   },
   {
    "duration": 6,
    "start_time": "2022-11-14T21:44:37.746Z"
   },
   {
    "duration": 14,
    "start_time": "2022-11-14T21:44:37.753Z"
   },
   {
    "duration": 6,
    "start_time": "2022-11-14T21:44:37.769Z"
   },
   {
    "duration": 15,
    "start_time": "2022-11-14T21:44:37.776Z"
   },
   {
    "duration": 4,
    "start_time": "2022-11-14T21:44:37.793Z"
   },
   {
    "duration": 17,
    "start_time": "2022-11-14T21:44:37.799Z"
   },
   {
    "duration": 4,
    "start_time": "2022-11-14T21:44:37.819Z"
   },
   {
    "duration": 31,
    "start_time": "2022-11-14T21:44:37.824Z"
   },
   {
    "duration": 12,
    "start_time": "2022-11-14T21:44:37.856Z"
   },
   {
    "duration": 8,
    "start_time": "2022-11-14T21:44:37.870Z"
   },
   {
    "duration": 28,
    "start_time": "2022-11-14T21:44:37.879Z"
   },
   {
    "duration": 60,
    "start_time": "2022-11-14T21:44:37.909Z"
   },
   {
    "duration": 332,
    "start_time": "2022-11-14T21:44:37.970Z"
   },
   {
    "duration": 156,
    "start_time": "2022-11-14T21:44:38.303Z"
   },
   {
    "duration": 95,
    "start_time": "2022-11-14T21:44:38.460Z"
   },
   {
    "duration": 295,
    "start_time": "2022-11-14T21:44:38.557Z"
   },
   {
    "duration": 7,
    "start_time": "2022-11-14T21:44:38.854Z"
   },
   {
    "duration": 138,
    "start_time": "2022-11-14T21:44:38.863Z"
   },
   {
    "duration": 36872,
    "start_time": "2022-11-14T21:44:39.004Z"
   },
   {
    "duration": 383,
    "start_time": "2022-11-14T21:45:15.878Z"
   },
   {
    "duration": 259,
    "start_time": "2022-11-14T21:45:16.263Z"
   },
   {
    "duration": 102,
    "start_time": "2022-11-14T21:45:16.524Z"
   },
   {
    "duration": 0,
    "start_time": "2022-11-14T21:45:16.628Z"
   },
   {
    "duration": 0,
    "start_time": "2022-11-14T21:45:16.629Z"
   },
   {
    "duration": 15,
    "start_time": "2022-11-14T21:46:16.427Z"
   },
   {
    "duration": 17,
    "start_time": "2022-11-14T21:46:23.341Z"
   },
   {
    "duration": 15,
    "start_time": "2022-11-14T21:46:36.487Z"
   },
   {
    "duration": 23,
    "start_time": "2022-11-14T21:48:07.992Z"
   },
   {
    "duration": 17,
    "start_time": "2022-11-14T21:49:22.854Z"
   },
   {
    "duration": 361,
    "start_time": "2022-11-14T21:49:38.460Z"
   },
   {
    "duration": 403,
    "start_time": "2022-11-14T21:50:08.360Z"
   },
   {
    "duration": 307,
    "start_time": "2022-11-14T21:50:16.213Z"
   },
   {
    "duration": 550,
    "start_time": "2022-11-14T21:50:27.307Z"
   },
   {
    "duration": 389,
    "start_time": "2022-11-14T21:50:40.147Z"
   },
   {
    "duration": 23,
    "start_time": "2022-11-14T21:53:15.722Z"
   },
   {
    "duration": 477,
    "start_time": "2022-11-14T21:53:21.869Z"
   },
   {
    "duration": 19,
    "start_time": "2022-11-14T21:55:36.490Z"
   },
   {
    "duration": 453,
    "start_time": "2022-11-14T21:56:30.743Z"
   },
   {
    "duration": 15,
    "start_time": "2022-11-14T21:57:44.317Z"
   },
   {
    "duration": 326,
    "start_time": "2022-11-14T21:58:54.869Z"
   },
   {
    "duration": 12,
    "start_time": "2022-11-14T21:59:08.039Z"
   },
   {
    "duration": 10,
    "start_time": "2022-11-14T22:01:12.276Z"
   },
   {
    "duration": 9,
    "start_time": "2022-11-14T22:03:26.926Z"
   },
   {
    "duration": 42,
    "start_time": "2022-11-15T14:41:02.295Z"
   },
   {
    "duration": 976,
    "start_time": "2022-11-15T14:41:13.087Z"
   },
   {
    "duration": 69,
    "start_time": "2022-11-15T14:41:14.064Z"
   },
   {
    "duration": 8,
    "start_time": "2022-11-15T14:41:14.134Z"
   },
   {
    "duration": 9,
    "start_time": "2022-11-15T14:41:14.144Z"
   },
   {
    "duration": 13,
    "start_time": "2022-11-15T14:41:14.154Z"
   },
   {
    "duration": 4,
    "start_time": "2022-11-15T14:41:14.168Z"
   },
   {
    "duration": 17,
    "start_time": "2022-11-15T14:41:14.173Z"
   },
   {
    "duration": 95,
    "start_time": "2022-11-15T14:41:14.192Z"
   },
   {
    "duration": 0,
    "start_time": "2022-11-15T14:41:14.289Z"
   },
   {
    "duration": 0,
    "start_time": "2022-11-15T14:41:14.290Z"
   },
   {
    "duration": 0,
    "start_time": "2022-11-15T14:41:14.290Z"
   },
   {
    "duration": 0,
    "start_time": "2022-11-15T14:41:14.291Z"
   },
   {
    "duration": 0,
    "start_time": "2022-11-15T14:41:14.292Z"
   },
   {
    "duration": 0,
    "start_time": "2022-11-15T14:41:14.293Z"
   },
   {
    "duration": 0,
    "start_time": "2022-11-15T14:41:14.294Z"
   },
   {
    "duration": 0,
    "start_time": "2022-11-15T14:41:14.295Z"
   },
   {
    "duration": 0,
    "start_time": "2022-11-15T14:41:14.296Z"
   },
   {
    "duration": 0,
    "start_time": "2022-11-15T14:41:14.297Z"
   },
   {
    "duration": 0,
    "start_time": "2022-11-15T14:41:14.298Z"
   },
   {
    "duration": 0,
    "start_time": "2022-11-15T14:41:14.299Z"
   },
   {
    "duration": 0,
    "start_time": "2022-11-15T14:41:14.300Z"
   },
   {
    "duration": 0,
    "start_time": "2022-11-15T14:41:14.301Z"
   },
   {
    "duration": 0,
    "start_time": "2022-11-15T14:41:14.302Z"
   },
   {
    "duration": 0,
    "start_time": "2022-11-15T14:41:14.303Z"
   },
   {
    "duration": 0,
    "start_time": "2022-11-15T14:41:14.304Z"
   },
   {
    "duration": 0,
    "start_time": "2022-11-15T14:41:14.304Z"
   },
   {
    "duration": 0,
    "start_time": "2022-11-15T14:41:14.305Z"
   },
   {
    "duration": 0,
    "start_time": "2022-11-15T14:41:14.306Z"
   },
   {
    "duration": 974,
    "start_time": "2022-11-15T14:41:41.180Z"
   },
   {
    "duration": 32,
    "start_time": "2022-11-15T14:41:42.156Z"
   },
   {
    "duration": 8,
    "start_time": "2022-11-15T14:41:42.189Z"
   },
   {
    "duration": 4,
    "start_time": "2022-11-15T14:41:42.199Z"
   },
   {
    "duration": 15,
    "start_time": "2022-11-15T14:41:42.204Z"
   },
   {
    "duration": 4,
    "start_time": "2022-11-15T14:41:42.220Z"
   },
   {
    "duration": 14,
    "start_time": "2022-11-15T14:41:42.225Z"
   },
   {
    "duration": 4,
    "start_time": "2022-11-15T14:41:42.240Z"
   },
   {
    "duration": 14,
    "start_time": "2022-11-15T14:41:42.246Z"
   },
   {
    "duration": 3,
    "start_time": "2022-11-15T14:41:42.262Z"
   },
   {
    "duration": 8,
    "start_time": "2022-11-15T14:41:42.266Z"
   },
   {
    "duration": 19,
    "start_time": "2022-11-15T14:41:42.275Z"
   },
   {
    "duration": 8,
    "start_time": "2022-11-15T14:41:42.296Z"
   },
   {
    "duration": 31,
    "start_time": "2022-11-15T14:41:42.305Z"
   },
   {
    "duration": 40,
    "start_time": "2022-11-15T14:41:42.337Z"
   },
   {
    "duration": 522,
    "start_time": "2022-11-15T14:41:42.379Z"
   },
   {
    "duration": 151,
    "start_time": "2022-11-15T14:41:42.903Z"
   },
   {
    "duration": 5,
    "start_time": "2022-11-15T14:41:43.057Z"
   },
   {
    "duration": 100,
    "start_time": "2022-11-15T14:41:43.153Z"
   },
   {
    "duration": 98,
    "start_time": "2022-11-15T14:41:43.254Z"
   },
   {
    "duration": 46,
    "start_time": "2022-11-15T14:41:43.353Z"
   },
   {
    "duration": 36916,
    "start_time": "2022-11-15T14:41:43.400Z"
   },
   {
    "duration": 441,
    "start_time": "2022-11-15T14:42:20.318Z"
   },
   {
    "duration": 316,
    "start_time": "2022-11-15T14:42:20.761Z"
   },
   {
    "duration": 129,
    "start_time": "2022-11-15T14:42:21.078Z"
   },
   {
    "duration": 1,
    "start_time": "2022-11-15T14:42:21.208Z"
   },
   {
    "duration": 0,
    "start_time": "2022-11-15T14:42:21.210Z"
   },
   {
    "duration": 40,
    "start_time": "2022-11-15T20:53:34.723Z"
   },
   {
    "duration": 43,
    "start_time": "2022-11-15T20:54:29.844Z"
   },
   {
    "duration": 333,
    "start_time": "2022-11-15T20:55:28.464Z"
   },
   {
    "duration": 486,
    "start_time": "2022-11-15T20:56:03.650Z"
   },
   {
    "duration": 979,
    "start_time": "2022-11-15T21:52:16.518Z"
   },
   {
    "duration": 32,
    "start_time": "2022-11-15T21:52:17.499Z"
   },
   {
    "duration": 8,
    "start_time": "2022-11-15T21:52:17.533Z"
   },
   {
    "duration": 4,
    "start_time": "2022-11-15T21:52:17.543Z"
   },
   {
    "duration": 14,
    "start_time": "2022-11-15T21:52:17.548Z"
   },
   {
    "duration": 4,
    "start_time": "2022-11-15T21:52:17.563Z"
   },
   {
    "duration": 13,
    "start_time": "2022-11-15T21:52:17.568Z"
   },
   {
    "duration": 4,
    "start_time": "2022-11-15T21:52:17.582Z"
   },
   {
    "duration": 15,
    "start_time": "2022-11-15T21:52:17.587Z"
   },
   {
    "duration": 6,
    "start_time": "2022-11-15T21:52:17.604Z"
   },
   {
    "duration": 9,
    "start_time": "2022-11-15T21:52:17.611Z"
   },
   {
    "duration": 12,
    "start_time": "2022-11-15T21:52:17.621Z"
   },
   {
    "duration": 4,
    "start_time": "2022-11-15T21:52:17.634Z"
   },
   {
    "duration": 36,
    "start_time": "2022-11-15T21:52:17.639Z"
   },
   {
    "duration": 32,
    "start_time": "2022-11-15T21:52:17.677Z"
   },
   {
    "duration": 316,
    "start_time": "2022-11-15T21:52:17.710Z"
   },
   {
    "duration": 35,
    "start_time": "2022-11-15T21:52:18.028Z"
   },
   {
    "duration": 7,
    "start_time": "2022-11-15T21:52:18.152Z"
   },
   {
    "duration": 191,
    "start_time": "2022-11-15T21:52:18.161Z"
   },
   {
    "duration": 5,
    "start_time": "2022-11-15T21:52:18.355Z"
   },
   {
    "duration": 48,
    "start_time": "2022-11-15T21:52:18.451Z"
   },
   {
    "duration": 36216,
    "start_time": "2022-11-15T21:52:18.500Z"
   },
   {
    "duration": 338,
    "start_time": "2022-11-15T21:52:54.718Z"
   },
   {
    "duration": 253,
    "start_time": "2022-11-15T21:52:55.058Z"
   },
   {
    "duration": 440,
    "start_time": "2022-11-15T21:52:55.312Z"
   },
   {
    "duration": 316,
    "start_time": "2022-11-15T21:52:55.753Z"
   },
   {
    "duration": 405,
    "start_time": "2022-11-15T21:52:56.070Z"
   },
   {
    "duration": 534,
    "start_time": "2022-11-15T22:20:56.967Z"
   },
   {
    "duration": 2207,
    "start_time": "2022-11-15T22:33:13.223Z"
   },
   {
    "duration": 0,
    "start_time": "2022-11-15T22:33:15.433Z"
   },
   {
    "duration": 0,
    "start_time": "2022-11-15T22:33:15.434Z"
   },
   {
    "duration": 0,
    "start_time": "2022-11-15T22:33:15.436Z"
   },
   {
    "duration": 0,
    "start_time": "2022-11-15T22:33:15.437Z"
   },
   {
    "duration": 1,
    "start_time": "2022-11-15T22:33:15.437Z"
   },
   {
    "duration": 0,
    "start_time": "2022-11-15T22:33:15.439Z"
   },
   {
    "duration": 0,
    "start_time": "2022-11-15T22:33:15.440Z"
   },
   {
    "duration": 0,
    "start_time": "2022-11-15T22:33:15.441Z"
   },
   {
    "duration": 0,
    "start_time": "2022-11-15T22:33:15.443Z"
   },
   {
    "duration": 0,
    "start_time": "2022-11-15T22:33:15.443Z"
   },
   {
    "duration": 0,
    "start_time": "2022-11-15T22:33:15.444Z"
   },
   {
    "duration": 0,
    "start_time": "2022-11-15T22:33:15.445Z"
   },
   {
    "duration": 0,
    "start_time": "2022-11-15T22:33:15.446Z"
   },
   {
    "duration": 0,
    "start_time": "2022-11-15T22:33:15.447Z"
   },
   {
    "duration": 0,
    "start_time": "2022-11-15T22:33:15.448Z"
   },
   {
    "duration": 0,
    "start_time": "2022-11-15T22:33:15.449Z"
   },
   {
    "duration": 0,
    "start_time": "2022-11-15T22:33:15.450Z"
   },
   {
    "duration": 0,
    "start_time": "2022-11-15T22:33:15.451Z"
   },
   {
    "duration": 0,
    "start_time": "2022-11-15T22:33:15.452Z"
   },
   {
    "duration": 0,
    "start_time": "2022-11-15T22:33:15.453Z"
   },
   {
    "duration": 0,
    "start_time": "2022-11-15T22:33:15.455Z"
   },
   {
    "duration": 0,
    "start_time": "2022-11-15T22:33:15.456Z"
   },
   {
    "duration": 0,
    "start_time": "2022-11-15T22:33:15.457Z"
   },
   {
    "duration": 0,
    "start_time": "2022-11-15T22:33:15.459Z"
   },
   {
    "duration": 0,
    "start_time": "2022-11-15T22:33:15.460Z"
   },
   {
    "duration": 0,
    "start_time": "2022-11-15T22:33:15.462Z"
   },
   {
    "duration": 1775,
    "start_time": "2022-11-15T22:33:24.986Z"
   },
   {
    "duration": 74,
    "start_time": "2022-11-15T22:33:26.763Z"
   },
   {
    "duration": 9,
    "start_time": "2022-11-15T22:33:26.839Z"
   },
   {
    "duration": 3,
    "start_time": "2022-11-15T22:33:26.850Z"
   },
   {
    "duration": 19,
    "start_time": "2022-11-15T22:33:26.935Z"
   },
   {
    "duration": 6,
    "start_time": "2022-11-15T22:33:27.853Z"
   },
   {
    "duration": 9,
    "start_time": "2022-11-15T22:33:31.256Z"
   },
   {
    "duration": 6,
    "start_time": "2022-11-15T22:33:35.776Z"
   },
   {
    "duration": 252,
    "start_time": "2022-11-15T22:37:47.776Z"
   },
   {
    "duration": 4,
    "start_time": "2022-11-15T22:37:52.146Z"
   },
   {
    "duration": 37,
    "start_time": "2022-11-15T22:37:52.152Z"
   },
   {
    "duration": 8,
    "start_time": "2022-11-15T22:37:52.191Z"
   },
   {
    "duration": 6,
    "start_time": "2022-11-15T22:37:52.201Z"
   },
   {
    "duration": 14,
    "start_time": "2022-11-15T22:37:52.209Z"
   },
   {
    "duration": 5,
    "start_time": "2022-11-15T22:37:52.224Z"
   },
   {
    "duration": 13,
    "start_time": "2022-11-15T22:37:52.230Z"
   },
   {
    "duration": 5,
    "start_time": "2022-11-15T22:37:52.245Z"
   },
   {
    "duration": 15,
    "start_time": "2022-11-15T22:37:52.251Z"
   },
   {
    "duration": 4,
    "start_time": "2022-11-15T22:37:52.267Z"
   },
   {
    "duration": 6,
    "start_time": "2022-11-15T22:37:52.272Z"
   },
   {
    "duration": 39,
    "start_time": "2022-11-15T22:37:52.280Z"
   },
   {
    "duration": 3,
    "start_time": "2022-11-15T22:37:52.320Z"
   },
   {
    "duration": 35,
    "start_time": "2022-11-15T22:37:52.325Z"
   },
   {
    "duration": 53,
    "start_time": "2022-11-15T22:37:52.362Z"
   },
   {
    "duration": 120,
    "start_time": "2022-11-15T22:37:52.416Z"
   },
   {
    "duration": 181,
    "start_time": "2022-11-15T22:37:52.538Z"
   },
   {
    "duration": 92,
    "start_time": "2022-11-15T22:37:52.721Z"
   },
   {
    "duration": 98,
    "start_time": "2022-11-15T22:37:52.815Z"
   },
   {
    "duration": 6,
    "start_time": "2022-11-15T22:37:52.915Z"
   },
   {
    "duration": 132,
    "start_time": "2022-11-15T22:37:52.923Z"
   },
   {
    "duration": 39719,
    "start_time": "2022-11-15T22:37:53.056Z"
   },
   {
    "duration": 371,
    "start_time": "2022-11-15T22:38:32.777Z"
   },
   {
    "duration": 277,
    "start_time": "2022-11-15T22:38:33.149Z"
   },
   {
    "duration": 509,
    "start_time": "2022-11-15T22:38:33.428Z"
   },
   {
    "duration": 341,
    "start_time": "2022-11-15T22:38:33.939Z"
   },
   {
    "duration": 490,
    "start_time": "2022-11-15T22:38:34.281Z"
   },
   {
    "duration": 1187,
    "start_time": "2022-11-16T12:58:03.827Z"
   },
   {
    "duration": 89,
    "start_time": "2022-11-16T12:58:05.016Z"
   },
   {
    "duration": 10,
    "start_time": "2022-11-16T12:58:05.106Z"
   },
   {
    "duration": 16,
    "start_time": "2022-11-16T12:58:05.118Z"
   },
   {
    "duration": 14,
    "start_time": "2022-11-16T12:58:05.136Z"
   },
   {
    "duration": 5,
    "start_time": "2022-11-16T12:58:05.151Z"
   },
   {
    "duration": 13,
    "start_time": "2022-11-16T12:58:05.157Z"
   },
   {
    "duration": 8,
    "start_time": "2022-11-16T12:58:05.171Z"
   },
   {
    "duration": 15,
    "start_time": "2022-11-16T12:58:05.181Z"
   },
   {
    "duration": 5,
    "start_time": "2022-11-16T12:58:05.197Z"
   },
   {
    "duration": 10,
    "start_time": "2022-11-16T12:58:05.203Z"
   },
   {
    "duration": 11,
    "start_time": "2022-11-16T12:58:05.215Z"
   },
   {
    "duration": 2,
    "start_time": "2022-11-16T12:58:05.228Z"
   },
   {
    "duration": 63,
    "start_time": "2022-11-16T12:58:05.233Z"
   },
   {
    "duration": 39,
    "start_time": "2022-11-16T12:58:05.298Z"
   },
   {
    "duration": 596,
    "start_time": "2022-11-16T12:58:05.339Z"
   },
   {
    "duration": 147,
    "start_time": "2022-11-16T12:58:05.937Z"
   },
   {
    "duration": 93,
    "start_time": "2022-11-16T12:58:06.086Z"
   },
   {
    "duration": 107,
    "start_time": "2022-11-16T12:58:06.180Z"
   },
   {
    "duration": 92,
    "start_time": "2022-11-16T12:58:06.289Z"
   },
   {
    "duration": 144,
    "start_time": "2022-11-16T12:58:06.384Z"
   },
   {
    "duration": 44209,
    "start_time": "2022-11-16T12:58:06.530Z"
   },
   {
    "duration": 423,
    "start_time": "2022-11-16T12:58:50.740Z"
   },
   {
    "duration": 300,
    "start_time": "2022-11-16T12:58:51.165Z"
   },
   {
    "duration": 551,
    "start_time": "2022-11-16T12:58:51.466Z"
   },
   {
    "duration": 370,
    "start_time": "2022-11-16T12:58:52.019Z"
   },
   {
    "duration": 482,
    "start_time": "2022-11-16T12:58:52.391Z"
   },
   {
    "duration": 8,
    "start_time": "2022-11-16T13:03:08.313Z"
   },
   {
    "duration": 133,
    "start_time": "2022-11-16T13:04:42.585Z"
   },
   {
    "duration": 10,
    "start_time": "2022-11-16T13:05:20.705Z"
   },
   {
    "duration": 1170,
    "start_time": "2022-11-16T13:05:51.765Z"
   },
   {
    "duration": 39,
    "start_time": "2022-11-16T13:05:52.938Z"
   },
   {
    "duration": 12,
    "start_time": "2022-11-16T13:05:52.978Z"
   },
   {
    "duration": 5,
    "start_time": "2022-11-16T13:05:52.992Z"
   },
   {
    "duration": 16,
    "start_time": "2022-11-16T13:05:52.999Z"
   },
   {
    "duration": 4,
    "start_time": "2022-11-16T13:05:53.017Z"
   },
   {
    "duration": 21,
    "start_time": "2022-11-16T13:05:53.023Z"
   },
   {
    "duration": 39,
    "start_time": "2022-11-16T13:05:53.046Z"
   },
   {
    "duration": 17,
    "start_time": "2022-11-16T13:05:53.087Z"
   },
   {
    "duration": 5,
    "start_time": "2022-11-16T13:05:53.106Z"
   },
   {
    "duration": 6,
    "start_time": "2022-11-16T13:05:53.114Z"
   },
   {
    "duration": 10,
    "start_time": "2022-11-16T13:05:53.122Z"
   },
   {
    "duration": 4,
    "start_time": "2022-11-16T13:05:53.133Z"
   },
   {
    "duration": 61,
    "start_time": "2022-11-16T13:05:53.140Z"
   },
   {
    "duration": 119,
    "start_time": "2022-11-16T13:05:53.203Z"
   },
   {
    "duration": 0,
    "start_time": "2022-11-16T13:05:53.324Z"
   },
   {
    "duration": 0,
    "start_time": "2022-11-16T13:05:53.325Z"
   },
   {
    "duration": 0,
    "start_time": "2022-11-16T13:05:53.326Z"
   },
   {
    "duration": 0,
    "start_time": "2022-11-16T13:05:53.328Z"
   },
   {
    "duration": 0,
    "start_time": "2022-11-16T13:05:53.329Z"
   },
   {
    "duration": 0,
    "start_time": "2022-11-16T13:05:53.330Z"
   },
   {
    "duration": 0,
    "start_time": "2022-11-16T13:05:53.331Z"
   },
   {
    "duration": 0,
    "start_time": "2022-11-16T13:05:53.332Z"
   },
   {
    "duration": 0,
    "start_time": "2022-11-16T13:05:53.334Z"
   },
   {
    "duration": 0,
    "start_time": "2022-11-16T13:05:53.334Z"
   },
   {
    "duration": 0,
    "start_time": "2022-11-16T13:05:53.335Z"
   },
   {
    "duration": 0,
    "start_time": "2022-11-16T13:05:53.336Z"
   },
   {
    "duration": 13,
    "start_time": "2022-11-16T13:06:21.564Z"
   },
   {
    "duration": 10,
    "start_time": "2022-11-16T13:08:53.794Z"
   },
   {
    "duration": 71,
    "start_time": "2022-11-16T13:11:04.335Z"
   },
   {
    "duration": 72,
    "start_time": "2022-11-16T13:11:13.255Z"
   },
   {
    "duration": 72,
    "start_time": "2022-11-16T13:11:16.958Z"
   },
   {
    "duration": 74,
    "start_time": "2022-11-16T13:12:02.734Z"
   },
   {
    "duration": 9,
    "start_time": "2022-11-16T13:12:26.904Z"
   },
   {
    "duration": 9,
    "start_time": "2022-11-16T13:12:38.555Z"
   },
   {
    "duration": 8,
    "start_time": "2022-11-16T13:12:54.977Z"
   },
   {
    "duration": 4,
    "start_time": "2022-11-16T13:12:57.265Z"
   },
   {
    "duration": 311,
    "start_time": "2022-11-16T13:13:04.997Z"
   },
   {
    "duration": 9,
    "start_time": "2022-11-16T13:13:39.614Z"
   },
   {
    "duration": 298,
    "start_time": "2022-11-16T13:13:45.302Z"
   },
   {
    "duration": 16,
    "start_time": "2022-11-16T13:14:08.074Z"
   },
   {
    "duration": 15,
    "start_time": "2022-11-16T13:14:30.474Z"
   },
   {
    "duration": 10,
    "start_time": "2022-11-16T13:14:40.394Z"
   },
   {
    "duration": 10,
    "start_time": "2022-11-16T13:14:56.154Z"
   },
   {
    "duration": 50,
    "start_time": "2022-11-17T12:26:21.260Z"
   },
   {
    "duration": 7,
    "start_time": "2022-11-17T12:26:33.374Z"
   },
   {
    "duration": 9,
    "start_time": "2022-11-17T12:49:10.198Z"
   },
   {
    "duration": 1153,
    "start_time": "2022-11-17T12:49:24.103Z"
   },
   {
    "duration": 164,
    "start_time": "2022-11-17T12:49:25.258Z"
   },
   {
    "duration": 9,
    "start_time": "2022-11-17T12:49:25.424Z"
   },
   {
    "duration": 12,
    "start_time": "2022-11-17T12:49:25.435Z"
   },
   {
    "duration": 16,
    "start_time": "2022-11-17T12:49:25.448Z"
   },
   {
    "duration": 97,
    "start_time": "2022-11-17T12:49:25.466Z"
   },
   {
    "duration": 0,
    "start_time": "2022-11-17T12:49:25.565Z"
   },
   {
    "duration": 0,
    "start_time": "2022-11-17T12:49:25.566Z"
   },
   {
    "duration": 0,
    "start_time": "2022-11-17T12:49:25.568Z"
   },
   {
    "duration": 0,
    "start_time": "2022-11-17T12:49:25.569Z"
   },
   {
    "duration": 0,
    "start_time": "2022-11-17T12:49:25.570Z"
   },
   {
    "duration": 0,
    "start_time": "2022-11-17T12:49:25.571Z"
   },
   {
    "duration": 0,
    "start_time": "2022-11-17T12:49:25.572Z"
   },
   {
    "duration": 0,
    "start_time": "2022-11-17T12:49:25.573Z"
   },
   {
    "duration": 0,
    "start_time": "2022-11-17T12:49:25.574Z"
   },
   {
    "duration": 0,
    "start_time": "2022-11-17T12:49:25.575Z"
   },
   {
    "duration": 0,
    "start_time": "2022-11-17T12:49:25.596Z"
   },
   {
    "duration": 0,
    "start_time": "2022-11-17T12:49:25.597Z"
   },
   {
    "duration": 0,
    "start_time": "2022-11-17T12:49:25.598Z"
   },
   {
    "duration": 0,
    "start_time": "2022-11-17T12:49:25.599Z"
   },
   {
    "duration": 0,
    "start_time": "2022-11-17T12:49:25.600Z"
   },
   {
    "duration": 0,
    "start_time": "2022-11-17T12:49:25.601Z"
   },
   {
    "duration": 0,
    "start_time": "2022-11-17T12:49:25.602Z"
   },
   {
    "duration": 0,
    "start_time": "2022-11-17T12:49:25.603Z"
   },
   {
    "duration": 0,
    "start_time": "2022-11-17T12:49:25.604Z"
   },
   {
    "duration": 0,
    "start_time": "2022-11-17T12:49:25.605Z"
   },
   {
    "duration": 0,
    "start_time": "2022-11-17T12:49:25.606Z"
   },
   {
    "duration": 45,
    "start_time": "2022-11-17T12:59:34.301Z"
   },
   {
    "duration": 57,
    "start_time": "2022-11-17T13:20:07.290Z"
   },
   {
    "duration": 57,
    "start_time": "2022-11-17T13:20:12.509Z"
   },
   {
    "duration": 51,
    "start_time": "2022-11-17T13:20:33.624Z"
   },
   {
    "duration": 53,
    "start_time": "2022-11-17T13:20:40.811Z"
   },
   {
    "duration": 5,
    "start_time": "2022-11-17T13:20:48.894Z"
   },
   {
    "duration": 10,
    "start_time": "2022-11-17T13:21:14.509Z"
   },
   {
    "duration": 13,
    "start_time": "2022-11-17T13:21:20.228Z"
   },
   {
    "duration": 4,
    "start_time": "2022-11-17T13:21:58.870Z"
   },
   {
    "duration": 5,
    "start_time": "2022-11-17T13:22:05.119Z"
   },
   {
    "duration": 6,
    "start_time": "2022-11-17T13:22:08.435Z"
   },
   {
    "duration": 11,
    "start_time": "2022-11-17T13:22:10.919Z"
   },
   {
    "duration": 6,
    "start_time": "2022-11-17T13:22:39.026Z"
   },
   {
    "duration": 5,
    "start_time": "2022-11-17T13:23:01.012Z"
   },
   {
    "duration": 5,
    "start_time": "2022-11-17T13:23:22.848Z"
   },
   {
    "duration": 5,
    "start_time": "2022-11-17T13:23:24.600Z"
   },
   {
    "duration": 10,
    "start_time": "2022-11-17T13:23:27.016Z"
   },
   {
    "duration": 47,
    "start_time": "2022-11-17T13:25:16.145Z"
   },
   {
    "duration": 4,
    "start_time": "2022-11-17T13:25:23.785Z"
   },
   {
    "duration": 6,
    "start_time": "2022-11-17T13:25:26.747Z"
   },
   {
    "duration": 11,
    "start_time": "2022-11-17T13:25:41.520Z"
   },
   {
    "duration": 186,
    "start_time": "2022-11-17T13:27:02.251Z"
   },
   {
    "duration": 5,
    "start_time": "2022-11-17T13:27:14.796Z"
   },
   {
    "duration": 5,
    "start_time": "2022-11-17T13:27:46.771Z"
   },
   {
    "duration": 7,
    "start_time": "2022-11-17T13:27:49.804Z"
   },
   {
    "duration": 4,
    "start_time": "2022-11-17T13:27:54.181Z"
   },
   {
    "duration": 6,
    "start_time": "2022-11-17T13:27:56.072Z"
   },
   {
    "duration": 6,
    "start_time": "2022-11-17T13:28:15.573Z"
   },
   {
    "duration": 7,
    "start_time": "2022-11-17T13:28:17.107Z"
   },
   {
    "duration": 15,
    "start_time": "2022-11-17T13:28:23.916Z"
   },
   {
    "duration": 1033,
    "start_time": "2022-11-17T13:28:43.749Z"
   },
   {
    "duration": 38,
    "start_time": "2022-11-17T13:28:44.784Z"
   },
   {
    "duration": 9,
    "start_time": "2022-11-17T13:28:44.824Z"
   },
   {
    "duration": 3,
    "start_time": "2022-11-17T13:28:44.835Z"
   },
   {
    "duration": 13,
    "start_time": "2022-11-17T13:28:44.840Z"
   },
   {
    "duration": 12,
    "start_time": "2022-11-17T13:28:44.855Z"
   },
   {
    "duration": 29,
    "start_time": "2022-11-17T13:28:44.869Z"
   },
   {
    "duration": 12,
    "start_time": "2022-11-17T13:28:44.900Z"
   },
   {
    "duration": 3,
    "start_time": "2022-11-17T13:28:44.914Z"
   },
   {
    "duration": 18,
    "start_time": "2022-11-17T13:28:44.920Z"
   },
   {
    "duration": 7,
    "start_time": "2022-11-17T13:28:44.939Z"
   },
   {
    "duration": 22,
    "start_time": "2022-11-17T13:28:44.947Z"
   },
   {
    "duration": 35,
    "start_time": "2022-11-17T13:28:44.971Z"
   },
   {
    "duration": 20,
    "start_time": "2022-11-17T13:28:45.008Z"
   },
   {
    "duration": 33,
    "start_time": "2022-11-17T13:28:45.029Z"
   },
   {
    "duration": 124,
    "start_time": "2022-11-17T13:28:45.064Z"
   },
   {
    "duration": 0,
    "start_time": "2022-11-17T13:28:45.197Z"
   },
   {
    "duration": 0,
    "start_time": "2022-11-17T13:28:45.198Z"
   },
   {
    "duration": 0,
    "start_time": "2022-11-17T13:28:45.199Z"
   },
   {
    "duration": 0,
    "start_time": "2022-11-17T13:28:45.201Z"
   },
   {
    "duration": 0,
    "start_time": "2022-11-17T13:28:45.203Z"
   },
   {
    "duration": 0,
    "start_time": "2022-11-17T13:28:45.205Z"
   },
   {
    "duration": 0,
    "start_time": "2022-11-17T13:28:45.207Z"
   },
   {
    "duration": 0,
    "start_time": "2022-11-17T13:28:45.208Z"
   },
   {
    "duration": 0,
    "start_time": "2022-11-17T13:28:45.209Z"
   },
   {
    "duration": 0,
    "start_time": "2022-11-17T13:28:45.211Z"
   },
   {
    "duration": 0,
    "start_time": "2022-11-17T13:28:45.212Z"
   },
   {
    "duration": 0,
    "start_time": "2022-11-17T13:28:45.213Z"
   },
   {
    "duration": 5,
    "start_time": "2022-11-17T13:29:30.517Z"
   },
   {
    "duration": 7,
    "start_time": "2022-11-17T13:29:33.512Z"
   },
   {
    "duration": 17,
    "start_time": "2022-11-17T13:29:38.577Z"
   },
   {
    "duration": 7,
    "start_time": "2022-11-17T13:29:53.203Z"
   },
   {
    "duration": 16,
    "start_time": "2022-11-17T13:29:57.043Z"
   },
   {
    "duration": 14,
    "start_time": "2022-11-17T13:30:50.451Z"
   },
   {
    "duration": 13,
    "start_time": "2022-11-17T13:31:03.136Z"
   },
   {
    "duration": 11,
    "start_time": "2022-11-17T13:31:21.943Z"
   },
   {
    "duration": 1197,
    "start_time": "2022-11-22T13:28:39.661Z"
   },
   {
    "duration": 84,
    "start_time": "2022-11-22T13:28:40.860Z"
   },
   {
    "duration": 11,
    "start_time": "2022-11-22T13:28:40.946Z"
   },
   {
    "duration": 5,
    "start_time": "2022-11-22T13:28:40.960Z"
   },
   {
    "duration": 26,
    "start_time": "2022-11-22T13:28:40.966Z"
   },
   {
    "duration": 106,
    "start_time": "2022-11-22T13:28:40.994Z"
   },
   {
    "duration": 0,
    "start_time": "2022-11-22T13:28:41.103Z"
   },
   {
    "duration": 0,
    "start_time": "2022-11-22T13:28:41.104Z"
   },
   {
    "duration": 0,
    "start_time": "2022-11-22T13:28:41.105Z"
   },
   {
    "duration": 0,
    "start_time": "2022-11-22T13:28:41.106Z"
   },
   {
    "duration": 0,
    "start_time": "2022-11-22T13:28:41.107Z"
   },
   {
    "duration": 0,
    "start_time": "2022-11-22T13:28:41.108Z"
   },
   {
    "duration": 0,
    "start_time": "2022-11-22T13:28:41.110Z"
   },
   {
    "duration": 0,
    "start_time": "2022-11-22T13:28:41.111Z"
   },
   {
    "duration": 0,
    "start_time": "2022-11-22T13:28:41.112Z"
   },
   {
    "duration": 0,
    "start_time": "2022-11-22T13:28:41.113Z"
   },
   {
    "duration": 1,
    "start_time": "2022-11-22T13:28:41.114Z"
   },
   {
    "duration": 0,
    "start_time": "2022-11-22T13:28:41.116Z"
   },
   {
    "duration": 0,
    "start_time": "2022-11-22T13:28:41.116Z"
   },
   {
    "duration": 0,
    "start_time": "2022-11-22T13:28:41.117Z"
   },
   {
    "duration": 0,
    "start_time": "2022-11-22T13:28:41.118Z"
   },
   {
    "duration": 0,
    "start_time": "2022-11-22T13:28:41.119Z"
   },
   {
    "duration": 0,
    "start_time": "2022-11-22T13:28:41.120Z"
   },
   {
    "duration": 0,
    "start_time": "2022-11-22T13:28:41.121Z"
   },
   {
    "duration": 0,
    "start_time": "2022-11-22T13:28:41.122Z"
   },
   {
    "duration": 0,
    "start_time": "2022-11-22T13:28:41.123Z"
   },
   {
    "duration": 0,
    "start_time": "2022-11-22T13:28:41.124Z"
   },
   {
    "duration": 0,
    "start_time": "2022-11-22T13:28:41.126Z"
   },
   {
    "duration": 55,
    "start_time": "2022-11-22T13:35:17.067Z"
   },
   {
    "duration": 1200,
    "start_time": "2022-11-22T13:35:27.207Z"
   },
   {
    "duration": 50,
    "start_time": "2022-11-22T13:35:28.409Z"
   },
   {
    "duration": 16,
    "start_time": "2022-11-22T13:35:28.461Z"
   },
   {
    "duration": 32,
    "start_time": "2022-11-22T13:35:28.479Z"
   },
   {
    "duration": 60,
    "start_time": "2022-11-22T13:35:28.514Z"
   },
   {
    "duration": 49,
    "start_time": "2022-11-22T13:35:28.576Z"
   },
   {
    "duration": 0,
    "start_time": "2022-11-22T13:35:28.628Z"
   },
   {
    "duration": 0,
    "start_time": "2022-11-22T13:35:28.629Z"
   },
   {
    "duration": 0,
    "start_time": "2022-11-22T13:35:28.630Z"
   },
   {
    "duration": 0,
    "start_time": "2022-11-22T13:35:28.631Z"
   },
   {
    "duration": 0,
    "start_time": "2022-11-22T13:35:28.633Z"
   },
   {
    "duration": 0,
    "start_time": "2022-11-22T13:35:28.634Z"
   },
   {
    "duration": 0,
    "start_time": "2022-11-22T13:35:28.635Z"
   },
   {
    "duration": 0,
    "start_time": "2022-11-22T13:35:28.636Z"
   },
   {
    "duration": 1,
    "start_time": "2022-11-22T13:35:28.637Z"
   },
   {
    "duration": 0,
    "start_time": "2022-11-22T13:35:28.639Z"
   },
   {
    "duration": 0,
    "start_time": "2022-11-22T13:35:28.640Z"
   },
   {
    "duration": 0,
    "start_time": "2022-11-22T13:35:28.641Z"
   },
   {
    "duration": 0,
    "start_time": "2022-11-22T13:35:28.643Z"
   },
   {
    "duration": 0,
    "start_time": "2022-11-22T13:35:28.644Z"
   },
   {
    "duration": 0,
    "start_time": "2022-11-22T13:35:28.646Z"
   },
   {
    "duration": 0,
    "start_time": "2022-11-22T13:35:28.647Z"
   },
   {
    "duration": 0,
    "start_time": "2022-11-22T13:35:28.649Z"
   },
   {
    "duration": 0,
    "start_time": "2022-11-22T13:35:28.650Z"
   },
   {
    "duration": 0,
    "start_time": "2022-11-22T13:35:28.652Z"
   },
   {
    "duration": 0,
    "start_time": "2022-11-22T13:35:28.653Z"
   },
   {
    "duration": 0,
    "start_time": "2022-11-22T13:35:28.655Z"
   },
   {
    "duration": 0,
    "start_time": "2022-11-22T13:35:28.656Z"
   },
   {
    "duration": 45,
    "start_time": "2022-11-22T13:35:42.981Z"
   },
   {
    "duration": 128,
    "start_time": "2022-11-22T13:35:51.830Z"
   },
   {
    "duration": 298,
    "start_time": "2022-11-22T13:35:58.900Z"
   },
   {
    "duration": 16,
    "start_time": "2022-11-22T13:37:17.328Z"
   },
   {
    "duration": 10,
    "start_time": "2022-11-22T13:39:00.641Z"
   },
   {
    "duration": 13,
    "start_time": "2022-11-22T13:39:02.660Z"
   },
   {
    "duration": 1168,
    "start_time": "2022-11-22T13:39:22.197Z"
   },
   {
    "duration": 42,
    "start_time": "2022-11-22T13:39:23.367Z"
   },
   {
    "duration": 13,
    "start_time": "2022-11-22T13:39:23.410Z"
   },
   {
    "duration": 19,
    "start_time": "2022-11-22T13:39:23.425Z"
   },
   {
    "duration": 23,
    "start_time": "2022-11-22T13:39:23.445Z"
   },
   {
    "duration": 3,
    "start_time": "2022-11-22T13:39:23.469Z"
   },
   {
    "duration": 15,
    "start_time": "2022-11-22T13:39:23.474Z"
   },
   {
    "duration": 14,
    "start_time": "2022-11-22T13:39:23.491Z"
   },
   {
    "duration": 4,
    "start_time": "2022-11-22T13:39:23.507Z"
   },
   {
    "duration": 15,
    "start_time": "2022-11-22T13:39:23.514Z"
   },
   {
    "duration": 5,
    "start_time": "2022-11-22T13:39:23.531Z"
   },
   {
    "duration": 11,
    "start_time": "2022-11-22T13:39:23.537Z"
   },
   {
    "duration": 28,
    "start_time": "2022-11-22T13:39:23.549Z"
   },
   {
    "duration": 3,
    "start_time": "2022-11-22T13:39:23.579Z"
   },
   {
    "duration": 30,
    "start_time": "2022-11-22T13:39:23.584Z"
   },
   {
    "duration": 122,
    "start_time": "2022-11-22T13:39:23.617Z"
   },
   {
    "duration": 0,
    "start_time": "2022-11-22T13:39:23.741Z"
   },
   {
    "duration": 0,
    "start_time": "2022-11-22T13:39:23.742Z"
   },
   {
    "duration": 0,
    "start_time": "2022-11-22T13:39:23.743Z"
   },
   {
    "duration": 0,
    "start_time": "2022-11-22T13:39:23.744Z"
   },
   {
    "duration": 0,
    "start_time": "2022-11-22T13:39:23.745Z"
   },
   {
    "duration": 0,
    "start_time": "2022-11-22T13:39:23.746Z"
   },
   {
    "duration": 0,
    "start_time": "2022-11-22T13:39:23.747Z"
   },
   {
    "duration": 0,
    "start_time": "2022-11-22T13:39:23.748Z"
   },
   {
    "duration": 0,
    "start_time": "2022-11-22T13:39:23.749Z"
   },
   {
    "duration": 0,
    "start_time": "2022-11-22T13:39:23.750Z"
   },
   {
    "duration": 0,
    "start_time": "2022-11-22T13:39:23.777Z"
   },
   {
    "duration": 0,
    "start_time": "2022-11-22T13:39:23.779Z"
   },
   {
    "duration": 51,
    "start_time": "2022-11-22T13:49:19.442Z"
   },
   {
    "duration": 49,
    "start_time": "2022-11-22T13:49:35.405Z"
   },
   {
    "duration": 55,
    "start_time": "2022-11-22T13:49:54.403Z"
   },
   {
    "duration": 354,
    "start_time": "2022-11-22T13:50:05.061Z"
   },
   {
    "duration": 7,
    "start_time": "2022-11-22T13:50:16.265Z"
   },
   {
    "duration": 7,
    "start_time": "2022-11-22T14:16:16.324Z"
   },
   {
    "duration": 12,
    "start_time": "2022-11-22T14:16:19.473Z"
   },
   {
    "duration": 8,
    "start_time": "2022-11-22T14:16:31.322Z"
   },
   {
    "duration": 8,
    "start_time": "2022-11-22T14:16:33.424Z"
   },
   {
    "duration": 13,
    "start_time": "2022-11-22T14:16:35.498Z"
   },
   {
    "duration": 6,
    "start_time": "2022-11-22T14:16:44.779Z"
   },
   {
    "duration": 6,
    "start_time": "2022-11-22T14:16:46.516Z"
   },
   {
    "duration": 13,
    "start_time": "2022-11-22T14:16:49.328Z"
   },
   {
    "duration": 6,
    "start_time": "2022-11-22T14:18:51.177Z"
   },
   {
    "duration": 6,
    "start_time": "2022-11-22T14:18:54.392Z"
   },
   {
    "duration": 11,
    "start_time": "2022-11-22T14:18:59.231Z"
   },
   {
    "duration": 369,
    "start_time": "2022-11-22T14:19:11.821Z"
   },
   {
    "duration": 242,
    "start_time": "2022-11-22T14:19:17.123Z"
   },
   {
    "duration": 251,
    "start_time": "2022-11-22T14:21:39.361Z"
   },
   {
    "duration": 308,
    "start_time": "2022-11-22T14:22:28.940Z"
   },
   {
    "duration": 340,
    "start_time": "2022-11-22T14:23:00.307Z"
   },
   {
    "duration": 206,
    "start_time": "2022-11-22T14:24:06.942Z"
   },
   {
    "duration": 7,
    "start_time": "2022-11-22T14:24:51.168Z"
   },
   {
    "duration": 6,
    "start_time": "2022-11-22T14:24:55.348Z"
   },
   {
    "duration": 12,
    "start_time": "2022-11-22T14:24:57.048Z"
   },
   {
    "duration": 6,
    "start_time": "2022-11-22T14:25:03.652Z"
   },
   {
    "duration": 11,
    "start_time": "2022-11-22T14:25:05.752Z"
   },
   {
    "duration": 7,
    "start_time": "2022-11-22T14:25:21.329Z"
   },
   {
    "duration": 261,
    "start_time": "2022-11-22T14:25:39.263Z"
   },
   {
    "duration": 6,
    "start_time": "2022-11-22T14:25:47.641Z"
   },
   {
    "duration": 7,
    "start_time": "2022-11-22T14:25:50.802Z"
   },
   {
    "duration": 13,
    "start_time": "2022-11-22T14:25:52.552Z"
   },
   {
    "duration": 1112,
    "start_time": "2022-11-22T14:26:12.094Z"
   },
   {
    "duration": 43,
    "start_time": "2022-11-22T14:26:13.209Z"
   },
   {
    "duration": 11,
    "start_time": "2022-11-22T14:26:13.253Z"
   },
   {
    "duration": 26,
    "start_time": "2022-11-22T14:26:13.266Z"
   },
   {
    "duration": 48,
    "start_time": "2022-11-22T14:26:13.296Z"
   },
   {
    "duration": 7,
    "start_time": "2022-11-22T14:26:13.346Z"
   },
   {
    "duration": 60,
    "start_time": "2022-11-22T14:26:13.355Z"
   },
   {
    "duration": 41,
    "start_time": "2022-11-22T14:26:13.416Z"
   },
   {
    "duration": 16,
    "start_time": "2022-11-22T14:26:13.458Z"
   },
   {
    "duration": 26,
    "start_time": "2022-11-22T14:26:13.475Z"
   },
   {
    "duration": 28,
    "start_time": "2022-11-22T14:26:13.502Z"
   },
   {
    "duration": 27,
    "start_time": "2022-11-22T14:26:13.531Z"
   },
   {
    "duration": 45,
    "start_time": "2022-11-22T14:26:13.561Z"
   },
   {
    "duration": 25,
    "start_time": "2022-11-22T14:26:13.609Z"
   },
   {
    "duration": 48,
    "start_time": "2022-11-22T14:26:13.636Z"
   },
   {
    "duration": 117,
    "start_time": "2022-11-22T14:26:13.685Z"
   },
   {
    "duration": 0,
    "start_time": "2022-11-22T14:26:13.805Z"
   },
   {
    "duration": 0,
    "start_time": "2022-11-22T14:26:13.806Z"
   },
   {
    "duration": 0,
    "start_time": "2022-11-22T14:26:13.807Z"
   },
   {
    "duration": 0,
    "start_time": "2022-11-22T14:26:13.808Z"
   },
   {
    "duration": 0,
    "start_time": "2022-11-22T14:26:13.809Z"
   },
   {
    "duration": 0,
    "start_time": "2022-11-22T14:26:13.810Z"
   },
   {
    "duration": 0,
    "start_time": "2022-11-22T14:26:13.811Z"
   },
   {
    "duration": 0,
    "start_time": "2022-11-22T14:26:13.812Z"
   },
   {
    "duration": 0,
    "start_time": "2022-11-22T14:26:13.813Z"
   },
   {
    "duration": 0,
    "start_time": "2022-11-22T14:26:13.814Z"
   },
   {
    "duration": 0,
    "start_time": "2022-11-22T14:26:13.815Z"
   },
   {
    "duration": 0,
    "start_time": "2022-11-22T14:26:13.816Z"
   },
   {
    "duration": 6,
    "start_time": "2022-11-22T14:27:04.549Z"
   },
   {
    "duration": 6,
    "start_time": "2022-11-22T14:27:06.225Z"
   },
   {
    "duration": 15,
    "start_time": "2022-11-22T14:27:08.073Z"
   },
   {
    "duration": 9,
    "start_time": "2022-11-22T14:31:06.807Z"
   },
   {
    "duration": 9,
    "start_time": "2022-11-22T14:31:09.860Z"
   },
   {
    "duration": 13,
    "start_time": "2022-11-22T14:31:15.103Z"
   },
   {
    "duration": 380,
    "start_time": "2022-11-22T14:31:53.696Z"
   },
   {
    "duration": 381,
    "start_time": "2022-11-22T14:32:04.945Z"
   },
   {
    "duration": 360,
    "start_time": "2022-11-22T14:32:11.268Z"
   },
   {
    "duration": 280,
    "start_time": "2022-11-22T14:32:59.641Z"
   },
   {
    "duration": 139,
    "start_time": "2022-11-22T14:34:00.086Z"
   },
   {
    "duration": 7,
    "start_time": "2022-11-22T14:34:05.384Z"
   },
   {
    "duration": 7,
    "start_time": "2022-11-22T14:34:06.647Z"
   },
   {
    "duration": 13,
    "start_time": "2022-11-22T14:34:08.218Z"
   },
   {
    "duration": 186,
    "start_time": "2022-11-22T14:34:32.545Z"
   },
   {
    "duration": 7,
    "start_time": "2022-11-22T14:35:03.895Z"
   },
   {
    "duration": 7,
    "start_time": "2022-11-22T14:35:05.717Z"
   },
   {
    "duration": 16,
    "start_time": "2022-11-22T14:35:08.382Z"
   },
   {
    "duration": 49,
    "start_time": "2022-11-22T14:35:19.597Z"
   },
   {
    "duration": 6,
    "start_time": "2022-11-22T14:35:23.938Z"
   },
   {
    "duration": 217,
    "start_time": "2022-11-22T14:35:31.493Z"
   },
   {
    "duration": 7,
    "start_time": "2022-11-22T14:35:40.093Z"
   },
   {
    "duration": 8,
    "start_time": "2022-11-22T14:35:44.640Z"
   },
   {
    "duration": 7,
    "start_time": "2022-11-22T14:35:46.155Z"
   },
   {
    "duration": 14,
    "start_time": "2022-11-22T14:35:48.691Z"
   },
   {
    "duration": 7,
    "start_time": "2022-11-22T14:35:55.950Z"
   },
   {
    "duration": 6,
    "start_time": "2022-11-22T14:35:57.678Z"
   },
   {
    "duration": 7,
    "start_time": "2022-11-22T14:36:02.996Z"
   },
   {
    "duration": 6,
    "start_time": "2022-11-22T14:36:03.674Z"
   },
   {
    "duration": 6,
    "start_time": "2022-11-22T14:36:05.443Z"
   },
   {
    "duration": 8,
    "start_time": "2022-11-22T14:36:24.862Z"
   },
   {
    "duration": 6,
    "start_time": "2022-11-22T14:36:26.293Z"
   },
   {
    "duration": 1096,
    "start_time": "2022-11-22T14:36:40.010Z"
   },
   {
    "duration": 42,
    "start_time": "2022-11-22T14:36:41.108Z"
   },
   {
    "duration": 10,
    "start_time": "2022-11-22T14:36:41.151Z"
   },
   {
    "duration": 15,
    "start_time": "2022-11-22T14:36:41.163Z"
   },
   {
    "duration": 15,
    "start_time": "2022-11-22T14:36:41.180Z"
   },
   {
    "duration": 2,
    "start_time": "2022-11-22T14:36:41.197Z"
   },
   {
    "duration": 14,
    "start_time": "2022-11-22T14:36:41.201Z"
   },
   {
    "duration": 14,
    "start_time": "2022-11-22T14:36:41.216Z"
   },
   {
    "duration": 4,
    "start_time": "2022-11-22T14:36:41.232Z"
   },
   {
    "duration": 12,
    "start_time": "2022-11-22T14:36:41.238Z"
   },
   {
    "duration": 28,
    "start_time": "2022-11-22T14:36:41.252Z"
   },
   {
    "duration": 9,
    "start_time": "2022-11-22T14:36:41.281Z"
   },
   {
    "duration": 11,
    "start_time": "2022-11-22T14:36:41.292Z"
   },
   {
    "duration": 5,
    "start_time": "2022-11-22T14:36:41.305Z"
   },
   {
    "duration": 30,
    "start_time": "2022-11-22T14:36:41.312Z"
   },
   {
    "duration": 130,
    "start_time": "2022-11-22T14:36:41.344Z"
   },
   {
    "duration": 0,
    "start_time": "2022-11-22T14:36:41.477Z"
   },
   {
    "duration": 0,
    "start_time": "2022-11-22T14:36:41.478Z"
   },
   {
    "duration": 1,
    "start_time": "2022-11-22T14:36:41.479Z"
   },
   {
    "duration": 0,
    "start_time": "2022-11-22T14:36:41.481Z"
   },
   {
    "duration": 0,
    "start_time": "2022-11-22T14:36:41.482Z"
   },
   {
    "duration": 0,
    "start_time": "2022-11-22T14:36:41.483Z"
   },
   {
    "duration": 0,
    "start_time": "2022-11-22T14:36:41.484Z"
   },
   {
    "duration": 0,
    "start_time": "2022-11-22T14:36:41.485Z"
   },
   {
    "duration": 0,
    "start_time": "2022-11-22T14:36:41.486Z"
   },
   {
    "duration": 0,
    "start_time": "2022-11-22T14:36:41.487Z"
   },
   {
    "duration": 0,
    "start_time": "2022-11-22T14:36:41.488Z"
   },
   {
    "duration": 0,
    "start_time": "2022-11-22T14:36:41.489Z"
   },
   {
    "duration": 9,
    "start_time": "2022-11-22T14:40:04.717Z"
   },
   {
    "duration": 7,
    "start_time": "2022-11-22T14:40:06.823Z"
   },
   {
    "duration": 19,
    "start_time": "2022-11-22T14:40:08.284Z"
   },
   {
    "duration": 8,
    "start_time": "2022-11-22T14:40:36.802Z"
   },
   {
    "duration": 1157,
    "start_time": "2022-11-22T14:41:00.818Z"
   },
   {
    "duration": 43,
    "start_time": "2022-11-22T14:41:01.977Z"
   },
   {
    "duration": 10,
    "start_time": "2022-11-22T14:41:02.022Z"
   },
   {
    "duration": 56,
    "start_time": "2022-11-22T14:41:02.034Z"
   },
   {
    "duration": 53,
    "start_time": "2022-11-22T14:41:02.092Z"
   },
   {
    "duration": 54,
    "start_time": "2022-11-22T14:41:02.147Z"
   },
   {
    "duration": 40,
    "start_time": "2022-11-22T14:41:02.204Z"
   },
   {
    "duration": 23,
    "start_time": "2022-11-22T14:41:02.245Z"
   },
   {
    "duration": 6,
    "start_time": "2022-11-22T14:41:02.270Z"
   },
   {
    "duration": 26,
    "start_time": "2022-11-22T14:41:02.279Z"
   },
   {
    "duration": 15,
    "start_time": "2022-11-22T14:41:02.306Z"
   },
   {
    "duration": 13,
    "start_time": "2022-11-22T14:41:02.323Z"
   },
   {
    "duration": 18,
    "start_time": "2022-11-22T14:41:02.337Z"
   },
   {
    "duration": 17,
    "start_time": "2022-11-22T14:41:02.356Z"
   },
   {
    "duration": 38,
    "start_time": "2022-11-22T14:41:02.374Z"
   },
   {
    "duration": 39,
    "start_time": "2022-11-22T14:41:02.413Z"
   },
   {
    "duration": 707,
    "start_time": "2022-11-22T14:41:02.454Z"
   },
   {
    "duration": 119,
    "start_time": "2022-11-22T14:41:03.163Z"
   },
   {
    "duration": 96,
    "start_time": "2022-11-22T14:41:03.284Z"
   },
   {
    "duration": 105,
    "start_time": "2022-11-22T14:41:03.382Z"
   },
   {
    "duration": 93,
    "start_time": "2022-11-22T14:41:03.489Z"
   },
   {
    "duration": 137,
    "start_time": "2022-11-22T14:41:03.584Z"
   },
   {
    "duration": 48009,
    "start_time": "2022-11-22T14:41:03.722Z"
   },
   {
    "duration": 455,
    "start_time": "2022-11-22T14:41:51.733Z"
   },
   {
    "duration": 313,
    "start_time": "2022-11-22T14:41:52.190Z"
   },
   {
    "duration": 452,
    "start_time": "2022-11-22T14:41:52.505Z"
   },
   {
    "duration": 398,
    "start_time": "2022-11-22T14:41:52.959Z"
   },
   {
    "duration": 527,
    "start_time": "2022-11-22T14:41:53.361Z"
   },
   {
    "duration": 1130,
    "start_time": "2022-11-22T14:42:24.183Z"
   },
   {
    "duration": 42,
    "start_time": "2022-11-22T14:42:25.315Z"
   },
   {
    "duration": 11,
    "start_time": "2022-11-22T14:42:25.358Z"
   },
   {
    "duration": 4,
    "start_time": "2022-11-22T14:42:25.371Z"
   },
   {
    "duration": 30,
    "start_time": "2022-11-22T14:42:25.376Z"
   },
   {
    "duration": 11,
    "start_time": "2022-11-22T14:42:25.408Z"
   },
   {
    "duration": 17,
    "start_time": "2022-11-22T14:42:25.420Z"
   },
   {
    "duration": 29,
    "start_time": "2022-11-22T14:42:25.439Z"
   },
   {
    "duration": 4,
    "start_time": "2022-11-22T14:42:25.469Z"
   },
   {
    "duration": 21,
    "start_time": "2022-11-22T14:42:25.476Z"
   },
   {
    "duration": 7,
    "start_time": "2022-11-22T14:42:25.499Z"
   },
   {
    "duration": 16,
    "start_time": "2022-11-22T14:42:25.508Z"
   },
   {
    "duration": 11,
    "start_time": "2022-11-22T14:42:25.525Z"
   },
   {
    "duration": 7,
    "start_time": "2022-11-22T14:42:25.538Z"
   },
   {
    "duration": 61,
    "start_time": "2022-11-22T14:42:25.547Z"
   },
   {
    "duration": 37,
    "start_time": "2022-11-22T14:42:25.610Z"
   },
   {
    "duration": 430,
    "start_time": "2022-11-22T14:42:25.648Z"
   },
   {
    "duration": 29,
    "start_time": "2022-11-22T14:42:26.079Z"
   },
   {
    "duration": 5,
    "start_time": "2022-11-22T14:42:26.180Z"
   },
   {
    "duration": 195,
    "start_time": "2022-11-22T14:42:26.186Z"
   },
   {
    "duration": 96,
    "start_time": "2022-11-22T14:42:26.383Z"
   },
   {
    "duration": 48,
    "start_time": "2022-11-22T14:42:26.481Z"
   },
   {
    "duration": 47947,
    "start_time": "2022-11-22T14:42:26.531Z"
   },
   {
    "duration": 452,
    "start_time": "2022-11-22T14:43:14.479Z"
   },
   {
    "duration": 333,
    "start_time": "2022-11-22T14:43:14.933Z"
   },
   {
    "duration": 441,
    "start_time": "2022-11-22T14:43:15.267Z"
   },
   {
    "duration": 421,
    "start_time": "2022-11-22T14:43:15.709Z"
   },
   {
    "duration": 542,
    "start_time": "2022-11-22T14:43:16.133Z"
   },
   {
    "duration": 315,
    "start_time": "2022-11-22T14:45:32.947Z"
   },
   {
    "duration": 190,
    "start_time": "2022-11-22T14:45:48.869Z"
   },
   {
    "duration": 224,
    "start_time": "2022-11-22T14:46:26.260Z"
   },
   {
    "duration": 429,
    "start_time": "2022-11-22T14:46:31.672Z"
   },
   {
    "duration": 30,
    "start_time": "2022-11-22T14:47:07.974Z"
   },
   {
    "duration": 32,
    "start_time": "2022-11-22T14:47:13.718Z"
   },
   {
    "duration": 1057,
    "start_time": "2022-11-22T14:47:33.428Z"
   },
   {
    "duration": 41,
    "start_time": "2022-11-22T14:47:34.488Z"
   },
   {
    "duration": 12,
    "start_time": "2022-11-22T14:47:34.531Z"
   },
   {
    "duration": 3,
    "start_time": "2022-11-22T14:47:34.546Z"
   },
   {
    "duration": 16,
    "start_time": "2022-11-22T14:47:34.551Z"
   },
   {
    "duration": 10,
    "start_time": "2022-11-22T14:47:34.569Z"
   },
   {
    "duration": 15,
    "start_time": "2022-11-22T14:47:34.580Z"
   },
   {
    "duration": 22,
    "start_time": "2022-11-22T14:47:34.597Z"
   },
   {
    "duration": 14,
    "start_time": "2022-11-22T14:47:34.622Z"
   },
   {
    "duration": 14,
    "start_time": "2022-11-22T14:47:34.639Z"
   },
   {
    "duration": 6,
    "start_time": "2022-11-22T14:47:34.654Z"
   },
   {
    "duration": 23,
    "start_time": "2022-11-22T14:47:34.662Z"
   },
   {
    "duration": 10,
    "start_time": "2022-11-22T14:47:34.687Z"
   },
   {
    "duration": 2,
    "start_time": "2022-11-22T14:47:34.700Z"
   },
   {
    "duration": 32,
    "start_time": "2022-11-22T14:47:34.704Z"
   },
   {
    "duration": 62,
    "start_time": "2022-11-22T14:47:34.738Z"
   },
   {
    "duration": 389,
    "start_time": "2022-11-22T14:47:34.802Z"
   },
   {
    "duration": 87,
    "start_time": "2022-11-22T14:47:35.193Z"
   },
   {
    "duration": 6,
    "start_time": "2022-11-22T14:47:35.281Z"
   },
   {
    "duration": 190,
    "start_time": "2022-11-22T14:47:35.288Z"
   },
   {
    "duration": 102,
    "start_time": "2022-11-22T14:47:35.480Z"
   },
   {
    "duration": 75,
    "start_time": "2022-11-22T14:47:35.583Z"
   },
   {
    "duration": 48620,
    "start_time": "2022-11-22T14:47:35.660Z"
   },
   {
    "duration": 233,
    "start_time": "2022-11-22T14:48:24.282Z"
   },
   {
    "duration": 175,
    "start_time": "2022-11-22T14:48:24.516Z"
   },
   {
    "duration": 490,
    "start_time": "2022-11-22T14:48:24.693Z"
   },
   {
    "duration": 257,
    "start_time": "2022-11-22T14:48:25.185Z"
   },
   {
    "duration": 19,
    "start_time": "2022-11-22T14:48:25.445Z"
   },
   {
    "duration": 626,
    "start_time": "2022-11-22T14:49:22.452Z"
   },
   {
    "duration": 489,
    "start_time": "2022-11-22T14:49:36.001Z"
   },
   {
    "duration": 694,
    "start_time": "2022-11-22T14:49:44.673Z"
   }
  ],
  "kernelspec": {
   "display_name": "Python 3 (ipykernel)",
   "language": "python",
   "name": "python3"
  },
  "language_info": {
   "codemirror_mode": {
    "name": "ipython",
    "version": 3
   },
   "file_extension": ".py",
   "mimetype": "text/x-python",
   "name": "python",
   "nbconvert_exporter": "python",
   "pygments_lexer": "ipython3",
   "version": "3.9.7"
  },
  "toc": {
   "base_numbering": 1,
   "nav_menu": {},
   "number_sections": true,
   "sideBar": true,
   "skip_h1_title": true,
   "title_cell": "Содержание",
   "title_sidebar": "Contents",
   "toc_cell": true,
   "toc_position": {},
   "toc_section_display": true,
   "toc_window_display": true
  }
 },
 "nbformat": 4,
 "nbformat_minor": 2
}
